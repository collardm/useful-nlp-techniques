{
 "cells": [
  {
   "cell_type": "code",
   "execution_count": 1,
   "metadata": {},
   "outputs": [],
   "source": [
    "import nltk\n",
    "import datasketch"
   ]
  },
  {
   "cell_type": "code",
   "execution_count": 2,
   "metadata": {},
   "outputs": [
    {
     "output_type": "execute_result",
     "data": {
      "text/plain": "['The early bird gets the worm.',\n 'In the heat of the moment.',\n 'Cross that bridge when you come to it.',\n \"Don't put all your eggs in one basket.\",\n 'The ball is in your court.',\n 'Your guess is as good as mine.']"
     },
     "metadata": {},
     "execution_count": 2
    }
   ],
   "source": [
    "# create the corpus\n",
    "\n",
    "corpus = [ \"The early bird gets the worm.\",\n",
    "           \"In the heat of the moment.\",\n",
    "           \"Cross that bridge when you come to it.\",\n",
    "           \"Don't put all your eggs in one basket.\",\n",
    "           \"The ball is in your court.\",\n",
    "           \"Your guess is as good as mine.\"]\n",
    "corpus"
   ]
  },
  {
   "cell_type": "code",
   "execution_count": 3,
   "metadata": {},
   "outputs": [
    {
     "output_type": "stream",
     "name": "stderr",
     "text": "[nltk_data] Downloading package punkt to\n[nltk_data]     C:\\Users\\maxen\\AppData\\Roaming\\nltk_data...\n[nltk_data]   Package punkt is already up-to-date!\n"
    },
    {
     "output_type": "execute_result",
     "data": {
      "text/plain": "True"
     },
     "metadata": {},
     "execution_count": 3
    }
   ],
   "source": [
    "# download punkt components\n",
    "\n",
    "nltk.download('punkt')"
   ]
  },
  {
   "cell_type": "code",
   "execution_count": 4,
   "metadata": {},
   "outputs": [
    {
     "output_type": "execute_result",
     "data": {
      "text/plain": "[['The', 'early', 'bird', 'gets', 'the', 'worm', '.'],\n ['In', 'the', 'heat', 'of', 'the', 'moment', '.'],\n ['Cross', 'that', 'bridge', 'when', 'you', 'come', 'to', 'it', '.'],\n ['Do', \"n't\", 'put', 'all', 'your', 'eggs', 'in', 'one', 'basket', '.'],\n ['The', 'ball', 'is', 'in', 'your', 'court', '.'],\n ['Your', 'guess', 'is', 'as', 'good', 'as', 'mine', '.']]"
     },
     "metadata": {},
     "execution_count": 4
    }
   ],
   "source": [
    "# tokenize all of the documents\n",
    "word_tokens = [nltk.word_tokenize(text) for text in corpus]\n",
    "word_tokens"
   ]
  },
  {
   "cell_type": "code",
   "execution_count": 5,
   "metadata": {},
   "outputs": [
    {
     "output_type": "stream",
     "name": "stdout",
     "text": "0 ('The', 'early', 'bird')\n0 ('early', 'bird', 'gets')\n0 ('bird', 'gets', 'the')\n0 ('gets', 'the', 'worm')\n0 ('the', 'worm', '.')\n1 ('In', 'the', 'heat')\n1 ('the', 'heat', 'of')\n1 ('heat', 'of', 'the')\n1 ('of', 'the', 'moment')\n1 ('the', 'moment', '.')\n2 ('Cross', 'that', 'bridge')\n2 ('that', 'bridge', 'when')\n2 ('bridge', 'when', 'you')\n2 ('when', 'you', 'come')\n2 ('you', 'come', 'to')\n2 ('come', 'to', 'it')\n2 ('to', 'it', '.')\n3 ('Do', \"n't\", 'put')\n3 (\"n't\", 'put', 'all')\n3 ('put', 'all', 'your')\n3 ('all', 'your', 'eggs')\n3 ('your', 'eggs', 'in')\n3 ('eggs', 'in', 'one')\n3 ('in', 'one', 'basket')\n3 ('one', 'basket', '.')\n4 ('The', 'ball', 'is')\n4 ('ball', 'is', 'in')\n4 ('is', 'in', 'your')\n4 ('in', 'your', 'court')\n4 ('your', 'court', '.')\n5 ('Your', 'guess', 'is')\n5 ('guess', 'is', 'as')\n5 ('is', 'as', 'good')\n5 ('as', 'good', 'as')\n5 ('good', 'as', 'mine')\n5 ('as', 'mine', '.')\n"
    }
   ],
   "source": [
    "# take a look at all the shingles of 3-grams\n",
    "# idea is documents with share shingles are similar\n",
    "# on small corpus 3-gram is fine, but ~8-10 in practice\n",
    "\n",
    "for index, doc_tokens in enumerate(word_tokens):\n",
    "    for n_gram in nltk.ngrams(doc_tokens, 3):\n",
    "        print(index, n_gram)"
   ]
  },
  {
   "cell_type": "code",
   "execution_count": 6,
   "metadata": {},
   "outputs": [],
   "source": [
    "def check_similarities(corpus, jaccard_threshold=0.5, num_perm=128):\n",
    "    print(corpus)\n",
    "    print(jaccard_threshold, num_perm)\n",
    "    \n",
    "    # create min hash\n",
    "    # jaccard similarity index > 0.5 and docs are similar\n",
    "    # greater the threshold, the higher time similarity\n",
    "    min_hash_lsh = datasketch.MinHashLSH(jaccard_threshold, num_perm)\n",
    "\n",
    "    # store min hashes in this dict\n",
    "    min_hashes = {}\n",
    "\n",
    "    # min hash each document's shingles\n",
    "    for index, text in enumerate(corpus):\n",
    "        min_hash = datasketch.MinHash(num_perm)\n",
    "\n",
    "        # generate n-grams (shingles) and calculate minhash\n",
    "        for n_gram in nltk.ngrams(text, 3):\n",
    "            min_hash.update(\"\".join(n_gram).encode(\"utf-8\"))\n",
    "\n",
    "        # now insert all minhashes for current doc in the min hash lsh\n",
    "        min_hash_lsh.insert(index, min_hash)\n",
    "\n",
    "        # and map min hash to doc index\n",
    "        min_hashes[index] = min_hash           \n",
    "        \n",
    "    for i in min_hashes.keys():\n",
    "        result = min_hash_lsh.query(min_hashes[i])\n",
    "        print(i, \":\", result)"
   ]
  },
  {
   "cell_type": "code",
   "execution_count": 7,
   "metadata": {},
   "outputs": [
    {
     "output_type": "stream",
     "name": "stdout",
     "text": "['The early bird gets the worm.', 'In the heat of the moment.', 'Cross that bridge when you come to it.', \"Don't put all your eggs in one basket.\", 'The ball is in your court.', 'Your guess is as good as mine.']\n0.5 128\n0 : [0]\n1 : [1]\n2 : [2]\n3 : [3]\n4 : [4]\n5 : [5]\n"
    }
   ],
   "source": [
    " check_similarities(corpus, 0.5, 128)"
   ]
  },
  {
   "cell_type": "code",
   "execution_count": 8,
   "metadata": {},
   "outputs": [],
   "source": [
    "# a new corpus with similar sentences\n",
    "corpus2 = [ \"The early bird gets the worm.\",\n",
    "            \"The early bird dog gets the birds.\",\n",
    "            \"In the heat of the moment.\",\n",
    "            \"Cross that bridge when you come to it.\",\n",
    "            \"Don't put all your eggs in one basket.\",\n",
    "            \"The ball is in your court.\",\n",
    "            \"The tennis ball is in your court.\",\n",
    "            \"Your guess is as good as mine.\"]"
   ]
  },
  {
   "cell_type": "code",
   "execution_count": 9,
   "metadata": {},
   "outputs": [
    {
     "output_type": "stream",
     "name": "stdout",
     "text": "['The early bird gets the worm.', 'The early bird dog gets the birds.', 'In the heat of the moment.', 'Cross that bridge when you come to it.', \"Don't put all your eggs in one basket.\", 'The ball is in your court.', 'The tennis ball is in your court.', 'Your guess is as good as mine.']\n0.5 128\n0 : [0, 1]\n1 : [0, 1]\n2 : [2]\n3 : [3]\n4 : [4]\n5 : [5, 6]\n6 : [5, 6]\n7 : [7]\n"
    }
   ],
   "source": [
    "check_similarities(corpus2)"
   ]
  }
 ],
 "metadata": {
  "kernelspec": {
   "display_name": "Python 3",
   "language": "python",
   "name": "python3"
  },
  "language_info": {
   "codemirror_mode": {
    "name": "ipython",
    "version": 3
   },
   "file_extension": ".py",
   "mimetype": "text/x-python",
   "name": "python",
   "nbconvert_exporter": "python",
   "pygments_lexer": "ipython3",
   "version": "3.7.3-final"
  }
 },
 "nbformat": 4,
 "nbformat_minor": 4
}