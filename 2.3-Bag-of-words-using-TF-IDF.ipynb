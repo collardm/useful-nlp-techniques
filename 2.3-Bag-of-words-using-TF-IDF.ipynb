{
 "cells": [
  {
   "cell_type": "code",
   "execution_count": 1,
   "metadata": {},
   "outputs": [],
   "source": [
    "# import CountVectorizer\n",
    "\n",
    "from sklearn.feature_extraction.text import CountVectorizer"
   ]
  },
  {
   "cell_type": "code",
   "execution_count": 2,
   "metadata": {},
   "outputs": [
    {
     "data": {
      "text/plain": "['The early bird gets the worm.',\n 'In the heat of the moment',\n 'Cross that bridge when you come to it',\n \"Don't put all your eggs in one basket\",\n 'The ball is in your court',\n 'Your guess is as good as mine']"
     },
     "execution_count": 2,
     "metadata": {},
     "output_type": "execute_result"
    }
   ],
   "source": [
    "# create the corpus\n",
    "\n",
    "corpus = [ \"The early bird gets the worm.\",\n",
    "           \"In the heat of the moment\",\n",
    "           \"Cross that bridge when you come to it\",\n",
    "           \"Don't put all your eggs in one basket\",\n",
    "           \"The ball is in your court\",\n",
    "           \"Your guess is as good as mine\"]\n",
    "corpus"
   ]
  },
  {
   "cell_type": "code",
   "execution_count": 3,
   "metadata": {},
   "outputs": [],
   "source": [
    "# create count vectorizer and fit corpus and get encoding\n",
    "count_vectorizer = CountVectorizer()\n",
    "freq_term_matrix = count_vectorizer.fit_transform(corpus)"
   ]
  },
  {
   "cell_type": "code",
   "execution_count": 4,
   "metadata": {},
   "outputs": [
    {
     "data": {
      "text/plain": "{'the': 25,\n 'early': 10,\n 'bird': 4,\n 'gets': 12,\n 'worm': 28,\n 'in': 16,\n 'heat': 15,\n 'of': 21,\n 'moment': 20,\n 'cross': 8,\n 'that': 24,\n 'bridge': 5,\n 'when': 27,\n 'you': 29,\n 'come': 6,\n 'to': 26,\n 'it': 18,\n 'don': 9,\n 'put': 23,\n 'all': 0,\n 'your': 30,\n 'eggs': 11,\n 'one': 22,\n 'basket': 3,\n 'ball': 2,\n 'is': 17,\n 'court': 7,\n 'guess': 14,\n 'as': 1,\n 'good': 13,\n 'mine': 19}"
     },
     "execution_count": 4,
     "metadata": {},
     "output_type": "execute_result"
    }
   ],
   "source": [
    "# examine the vocabulary\n",
    "\n",
    "count_vectorizer.vocabulary_"
   ]
  },
  {
   "cell_type": "code",
   "execution_count": 5,
   "metadata": {},
   "outputs": [
    {
     "data": {
      "text/plain": "(6, 31)"
     },
     "execution_count": 5,
     "metadata": {},
     "output_type": "execute_result"
    }
   ],
   "source": [
    "freq_term_matrix.shape"
   ]
  },
  {
   "cell_type": "code",
   "execution_count": 6,
   "metadata": {},
   "outputs": [
    {
     "data": {
      "text/plain": "array([[0, 0, 0, 0, 1, 0, 0, 0, 0, 0, 1, 0, 1, 0, 0, 0, 0, 0, 0, 0, 0, 0,\n        0, 0, 0, 2, 0, 0, 1, 0, 0],\n       [0, 0, 0, 0, 0, 0, 0, 0, 0, 0, 0, 0, 0, 0, 0, 1, 1, 0, 0, 0, 1, 1,\n        0, 0, 0, 2, 0, 0, 0, 0, 0],\n       [0, 0, 0, 0, 0, 1, 1, 0, 1, 0, 0, 0, 0, 0, 0, 0, 0, 0, 1, 0, 0, 0,\n        0, 0, 1, 0, 1, 1, 0, 1, 0],\n       [1, 0, 0, 1, 0, 0, 0, 0, 0, 1, 0, 1, 0, 0, 0, 0, 1, 0, 0, 0, 0, 0,\n        1, 1, 0, 0, 0, 0, 0, 0, 1],\n       [0, 0, 1, 0, 0, 0, 0, 1, 0, 0, 0, 0, 0, 0, 0, 0, 1, 1, 0, 0, 0, 0,\n        0, 0, 0, 1, 0, 0, 0, 0, 1],\n       [0, 2, 0, 0, 0, 0, 0, 0, 0, 0, 0, 0, 0, 1, 1, 0, 0, 1, 0, 1, 0, 0,\n        0, 0, 0, 0, 0, 0, 0, 0, 1]], dtype=int64)"
     },
     "execution_count": 6,
     "metadata": {},
     "output_type": "execute_result"
    }
   ],
   "source": [
    "# and here is the bag-of-words encoding\n",
    "\n",
    "freq_term_matrix.toarray()"
   ]
  },
  {
   "cell_type": "code",
   "execution_count": 7,
   "metadata": {},
   "outputs": [],
   "source": [
    "# now let's transform this to tf-idf\n",
    "\n",
    "from sklearn.feature_extraction.text import TfidfTransformer"
   ]
  },
  {
   "cell_type": "code",
   "execution_count": 8,
   "metadata": {},
   "outputs": [],
   "source": [
    "# create TF-IDF transformer\n",
    "\n",
    "tfidf_transformer = TfidfTransformer()"
   ]
  },
  {
   "cell_type": "code",
   "execution_count": 9,
   "metadata": {},
   "outputs": [],
   "source": [
    "# fit and transform the \n",
    "\n",
    "tfidf_vector = tfidf_transformer.fit_transform(freq_term_matrix)"
   ]
  },
  {
   "cell_type": "code",
   "execution_count": 10,
   "metadata": {},
   "outputs": [
    {
     "data": {
      "text/plain": "(6, 31)"
     },
     "execution_count": 10,
     "metadata": {},
     "output_type": "execute_result"
    }
   ],
   "source": [
    "tfidf_vector.shape"
   ]
  },
  {
   "cell_type": "code",
   "execution_count": 11,
   "metadata": {},
   "outputs": [
    {
     "data": {
      "text/plain": "array([[0.        , 0.        , 0.        , 0.        , 0.41109519,\n        0.        , 0.        , 0.        , 0.        , 0.        ,\n        0.41109519, 0.        , 0.41109519, 0.        , 0.        ,\n        0.        , 0.        , 0.        , 0.        , 0.        ,\n        0.        , 0.        , 0.        , 0.        , 0.        ,\n        0.56921261, 0.        , 0.        , 0.41109519, 0.        ,\n        0.        ],\n       [0.        , 0.        , 0.        , 0.        , 0.        ,\n        0.        , 0.        , 0.        , 0.        , 0.        ,\n        0.        , 0.        , 0.        , 0.        , 0.        ,\n        0.43047171, 0.29802091, 0.        , 0.        , 0.        ,\n        0.43047171, 0.43047171, 0.        , 0.        , 0.        ,\n        0.59604182, 0.        , 0.        , 0.        , 0.        ,\n        0.        ],\n       [0.        , 0.        , 0.        , 0.        , 0.        ,\n        0.35355339, 0.35355339, 0.        , 0.35355339, 0.        ,\n        0.        , 0.        , 0.        , 0.        , 0.        ,\n        0.        , 0.        , 0.        , 0.35355339, 0.        ,\n        0.        , 0.        , 0.        , 0.        , 0.35355339,\n        0.        , 0.35355339, 0.35355339, 0.        , 0.35355339,\n        0.        ],\n       [0.37908734, 0.        , 0.        , 0.37908734, 0.        ,\n        0.        , 0.        , 0.        , 0.        , 0.37908734,\n        0.        , 0.37908734, 0.        , 0.        , 0.        ,\n        0.        , 0.26244688, 0.        , 0.        , 0.        ,\n        0.        , 0.        , 0.37908734, 0.37908734, 0.        ,\n        0.        , 0.        , 0.        , 0.        , 0.        ,\n        0.26244688],\n       [0.        , 0.        , 0.49324485, 0.        , 0.        ,\n        0.        , 0.        , 0.49324485, 0.        , 0.        ,\n        0.        , 0.        , 0.        , 0.        , 0.        ,\n        0.        , 0.34147953, 0.40446783, 0.        , 0.        ,\n        0.        , 0.        , 0.        , 0.        , 0.        ,\n        0.34147953, 0.        , 0.        , 0.        , 0.        ,\n        0.34147953],\n       [0.        , 0.70049553, 0.        , 0.        , 0.        ,\n        0.        , 0.        , 0.        , 0.        , 0.        ,\n        0.        , 0.        , 0.        , 0.35024777, 0.35024777,\n        0.        , 0.        , 0.28720818, 0.        , 0.35024777,\n        0.        , 0.        , 0.        , 0.        , 0.        ,\n        0.        , 0.        , 0.        , 0.        , 0.        ,\n        0.24248088]])"
     },
     "execution_count": 11,
     "metadata": {},
     "output_type": "execute_result"
    }
   ],
   "source": [
    "tfidf_vector.toarray()"
   ]
  },
  {
   "cell_type": "code",
   "execution_count": 12,
   "metadata": {},
   "outputs": [],
   "source": [
    "# this class is equivalent to CountVectorizer + TdifTransformer\n",
    "from sklearn.feature_extraction.text import TfidfVectorizer\n",
    "tfidf_vectorizer = TfidfVectorizer()"
   ]
  },
  {
   "cell_type": "code",
   "execution_count": 13,
   "metadata": {},
   "outputs": [
    {
     "data": {
      "text/plain": "{'the': 25,\n 'early': 10,\n 'bird': 4,\n 'gets': 12,\n 'worm': 28,\n 'in': 16,\n 'heat': 15,\n 'of': 21,\n 'moment': 20,\n 'cross': 8,\n 'that': 24,\n 'bridge': 5,\n 'when': 27,\n 'you': 29,\n 'come': 6,\n 'to': 26,\n 'it': 18,\n 'don': 9,\n 'put': 23,\n 'all': 0,\n 'your': 30,\n 'eggs': 11,\n 'one': 22,\n 'basket': 3,\n 'ball': 2,\n 'is': 17,\n 'court': 7,\n 'guess': 14,\n 'as': 1,\n 'good': 13,\n 'mine': 19}"
     },
     "execution_count": 13,
     "metadata": {},
     "output_type": "execute_result"
    }
   ],
   "source": [
    "tfidf_vector = tfidf_vectorizer.fit_transform(corpus)\n",
    "tfidf_vectorizer.vocabulary_"
   ]
  },
  {
   "cell_type": "code",
   "execution_count": 14,
   "metadata": {},
   "outputs": [
    {
     "data": {
      "text/plain": "(6, 31)"
     },
     "execution_count": 14,
     "metadata": {},
     "output_type": "execute_result"
    }
   ],
   "source": [
    "# same shape as the one earlier\n",
    "\n",
    "tfidf_vector.shape"
   ]
  },
  {
   "cell_type": "code",
   "execution_count": 15,
   "metadata": {},
   "outputs": [
    {
     "data": {
      "text/plain": "array([2.25276297, 2.25276297, 2.25276297, 2.25276297, 2.25276297,\n       2.25276297, 2.25276297, 2.25276297, 2.25276297, 2.25276297,\n       2.25276297, 2.25276297, 2.25276297, 2.25276297, 2.25276297,\n       2.25276297, 1.55961579, 1.84729786, 2.25276297, 2.25276297,\n       2.25276297, 2.25276297, 2.25276297, 2.25276297, 2.25276297,\n       1.55961579, 2.25276297, 2.25276297, 2.25276297, 2.25276297,\n       1.55961579])"
     },
     "execution_count": 15,
     "metadata": {},
     "output_type": "execute_result"
    }
   ],
   "source": [
    "# idf values for the vocabulary\n",
    "\n",
    "tfidf_vectorizer.idf_"
   ]
  },
  {
   "cell_type": "code",
   "execution_count": 16,
   "metadata": {},
   "outputs": [
    {
     "data": {
      "text/plain": "{'all': 2.252762968495368,\n 'as': 2.252762968495368,\n 'ball': 2.252762968495368,\n 'basket': 2.252762968495368,\n 'bird': 2.252762968495368,\n 'bridge': 2.252762968495368,\n 'come': 2.252762968495368,\n 'court': 2.252762968495368,\n 'cross': 2.252762968495368,\n 'don': 2.252762968495368,\n 'early': 2.252762968495368,\n 'eggs': 2.252762968495368,\n 'gets': 2.252762968495368,\n 'good': 2.252762968495368,\n 'guess': 2.252762968495368,\n 'heat': 2.252762968495368,\n 'in': 1.5596157879354227,\n 'is': 1.8472978603872037,\n 'it': 2.252762968495368,\n 'mine': 2.252762968495368,\n 'moment': 2.252762968495368,\n 'of': 2.252762968495368,\n 'one': 2.252762968495368,\n 'put': 2.252762968495368,\n 'that': 2.252762968495368,\n 'the': 1.5596157879354227,\n 'to': 2.252762968495368,\n 'when': 2.252762968495368,\n 'worm': 2.252762968495368,\n 'you': 2.252762968495368,\n 'your': 1.5596157879354227}"
     },
     "execution_count": 16,
     "metadata": {},
     "output_type": "execute_result"
    }
   ],
   "source": [
    "# we can see word/value with a zip\n",
    "\n",
    "word_idf = dict(zip(tfidf_vectorizer.get_feature_names(), tfidf_vectorizer.idf_))\n",
    "word_idf"
   ]
  },
  {
   "cell_type": "code",
   "execution_count": 17,
   "metadata": {},
   "outputs": [
    {
     "data": {
      "text/plain": "[('in', 1.5596157879354227),\n ('the', 1.5596157879354227),\n ('your', 1.5596157879354227),\n ('is', 1.8472978603872037),\n ('all', 2.252762968495368),\n ('as', 2.252762968495368),\n ('ball', 2.252762968495368),\n ('basket', 2.252762968495368),\n ('bird', 2.252762968495368),\n ('bridge', 2.252762968495368),\n ('come', 2.252762968495368),\n ('court', 2.252762968495368),\n ('cross', 2.252762968495368),\n ('don', 2.252762968495368),\n ('early', 2.252762968495368),\n ('eggs', 2.252762968495368),\n ('gets', 2.252762968495368),\n ('good', 2.252762968495368),\n ('guess', 2.252762968495368),\n ('heat', 2.252762968495368),\n ('it', 2.252762968495368),\n ('mine', 2.252762968495368),\n ('moment', 2.252762968495368),\n ('of', 2.252762968495368),\n ('one', 2.252762968495368),\n ('put', 2.252762968495368),\n ('that', 2.252762968495368),\n ('to', 2.252762968495368),\n ('when', 2.252762968495368),\n ('worm', 2.252762968495368),\n ('you', 2.252762968495368)]"
     },
     "execution_count": 17,
     "metadata": {},
     "output_type": "execute_result"
    }
   ],
   "source": [
    "# sorted from lowest tf-idf importance to highest\n",
    "\n",
    "sorted(word_idf.items(), key = lambda kv:(kv[1], kv[0]))"
   ]
  },
  {
   "cell_type": "code",
   "execution_count": 18,
   "metadata": {},
   "outputs": [
    {
     "data": {
      "text/plain": "array([[0.        , 0.        , 0.        , 0.        , 0.41109519,\n        0.        , 0.        , 0.        , 0.        , 0.        ,\n        0.41109519, 0.        , 0.41109519, 0.        , 0.        ,\n        0.        , 0.        , 0.        , 0.        , 0.        ,\n        0.        , 0.        , 0.        , 0.        , 0.        ,\n        0.56921261, 0.        , 0.        , 0.41109519, 0.        ,\n        0.        ],\n       [0.        , 0.        , 0.        , 0.        , 0.        ,\n        0.        , 0.        , 0.        , 0.        , 0.        ,\n        0.        , 0.        , 0.        , 0.        , 0.        ,\n        0.43047171, 0.29802091, 0.        , 0.        , 0.        ,\n        0.43047171, 0.43047171, 0.        , 0.        , 0.        ,\n        0.59604182, 0.        , 0.        , 0.        , 0.        ,\n        0.        ],\n       [0.        , 0.        , 0.        , 0.        , 0.        ,\n        0.35355339, 0.35355339, 0.        , 0.35355339, 0.        ,\n        0.        , 0.        , 0.        , 0.        , 0.        ,\n        0.        , 0.        , 0.        , 0.35355339, 0.        ,\n        0.        , 0.        , 0.        , 0.        , 0.35355339,\n        0.        , 0.35355339, 0.35355339, 0.        , 0.35355339,\n        0.        ],\n       [0.37908734, 0.        , 0.        , 0.37908734, 0.        ,\n        0.        , 0.        , 0.        , 0.        , 0.37908734,\n        0.        , 0.37908734, 0.        , 0.        , 0.        ,\n        0.        , 0.26244688, 0.        , 0.        , 0.        ,\n        0.        , 0.        , 0.37908734, 0.37908734, 0.        ,\n        0.        , 0.        , 0.        , 0.        , 0.        ,\n        0.26244688],\n       [0.        , 0.        , 0.49324485, 0.        , 0.        ,\n        0.        , 0.        , 0.49324485, 0.        , 0.        ,\n        0.        , 0.        , 0.        , 0.        , 0.        ,\n        0.        , 0.34147953, 0.40446783, 0.        , 0.        ,\n        0.        , 0.        , 0.        , 0.        , 0.        ,\n        0.34147953, 0.        , 0.        , 0.        , 0.        ,\n        0.34147953],\n       [0.        , 0.70049553, 0.        , 0.        , 0.        ,\n        0.        , 0.        , 0.        , 0.        , 0.        ,\n        0.        , 0.        , 0.        , 0.35024777, 0.35024777,\n        0.        , 0.        , 0.28720818, 0.        , 0.35024777,\n        0.        , 0.        , 0.        , 0.        , 0.        ,\n        0.        , 0.        , 0.        , 0.        , 0.        ,\n        0.24248088]])"
     },
     "execution_count": 18,
     "metadata": {},
     "output_type": "execute_result"
    }
   ],
   "source": [
    "tfidf_vector.toarray()"
   ]
  }
 ],
 "metadata": {
  "kernelspec": {
   "display_name": "Python 3",
   "language": "python",
   "name": "python3"
  },
  "language_info": {
   "codemirror_mode": {
    "name": "ipython",
    "version": 3
   },
   "file_extension": ".py",
   "mimetype": "text/x-python",
   "name": "python",
   "nbconvert_exporter": "python",
   "pygments_lexer": "ipython3",
   "version": "3.7.3-final"
  }
 },
 "nbformat": 4,
 "nbformat_minor": 4
}