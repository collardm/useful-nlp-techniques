{
 "cells": [
  {
   "cell_type": "code",
   "execution_count": 1,
   "metadata": {},
   "outputs": [],
   "source": [
    "import bs4 as bs\n",
    "import urllib.request\n",
    "import re\n",
    "import nltk"
   ]
  },
  {
   "cell_type": "code",
   "execution_count": 2,
   "metadata": {},
   "outputs": [
    {
     "name": "stderr",
     "output_type": "stream",
     "text": "[nltk_data] Downloading package stopwords to\n[nltk_data]     C:\\Users\\maxen\\AppData\\Roaming\\nltk_data...\n[nltk_data]   Package stopwords is already up-to-date!\n[nltk_data] Downloading package punkt to\n[nltk_data]     C:\\Users\\maxen\\AppData\\Roaming\\nltk_data...\n[nltk_data]   Package punkt is already up-to-date!\n"
    },
    {
     "data": {
      "text/plain": "True"
     },
     "execution_count": 2,
     "metadata": {},
     "output_type": "execute_result"
    }
   ],
   "source": [
    "# download punkt and stopwords\n",
    "\n",
    "nltk.download('stopwords')\n",
    "nltk.download('punkt')"
   ]
  },
  {
   "cell_type": "code",
   "execution_count": 3,
   "metadata": {},
   "outputs": [
    {
     "data": {
      "text/plain": "'\\n\\nIn computer science, artificial intelligence (AI), sometimes called machine intelligence, is intelligence demonstrated by machines, in contrast to the natural intelligence displayed by humans and animals. Leading AI textbooks define the field as th'"
     },
     "execution_count": 3,
     "metadata": {},
     "output_type": "execute_result"
    }
   ],
   "source": [
    "# read the artificial intelligence page from wikipedia\n",
    "\n",
    "html = urllib.request.urlopen('https://en.wikipedia.org/wiki/Artificial_intelligence')\n",
    "article = html.read()\n",
    "\n",
    "parsed = bs.BeautifulSoup(article, 'lxml')\n",
    "\n",
    "paragraphs = parsed.find_all('p')\n",
    "\n",
    "article_text = \"\"\n",
    "for p in paragraphs:\n",
    "    article_text += p.text\n",
    "    \n",
    "article_text[:250]"
   ]
  },
  {
   "cell_type": "code",
   "execution_count": 4,
   "metadata": {},
   "outputs": [
    {
     "data": {
      "text/plain": "' in computer science artificial intelligence ai sometimes called machine intelligence is intelligence demonstrated by machines in contrast to the natural intelligence displayed by humans and animals leading ai textbooks define the field as the study '"
     },
     "execution_count": 4,
     "metadata": {},
     "output_type": "execute_result"
    }
   ],
   "source": [
    "# lowercase, replace non-words and non-space whitespace\n",
    "\n",
    "text = article_text.lower()\n",
    "text = re.sub('[^a-zA-Z]', ' ', text)\n",
    "text = re.sub(r'\\s+', ' ', text)\n",
    "\n",
    "text[:250]"
   ]
  },
  {
   "cell_type": "code",
   "execution_count": 5,
   "metadata": {},
   "outputs": [],
   "source": [
    "# tokenize the page\n",
    "\n",
    "all_words = nltk.word_tokenize(text)"
   ]
  },
  {
   "cell_type": "code",
   "execution_count": 6,
   "metadata": {},
   "outputs": [],
   "source": [
    "# remove stopwords\n",
    "\n",
    "stopwords = nltk.corpus.stopwords.words('english')\n",
    "all_words = [token for token in all_words if token not in stopwords]"
   ]
  },
  {
   "cell_type": "code",
   "execution_count": 7,
   "metadata": {},
   "outputs": [
    {
     "data": {
      "text/plain": "['computer',\n 'science',\n 'artificial',\n 'intelligence',\n 'ai',\n 'sometimes',\n 'called',\n 'machine',\n 'intelligence',\n 'intelligence']"
     },
     "execution_count": 7,
     "metadata": {},
     "output_type": "execute_result"
    }
   ],
   "source": [
    "# first 10 words \n",
    "\n",
    "all_words[:10]"
   ]
  },
  {
   "cell_type": "code",
   "execution_count": 8,
   "metadata": {},
   "outputs": [
    {
     "data": {
      "text/plain": "8482"
     },
     "execution_count": 8,
     "metadata": {},
     "output_type": "execute_result"
    }
   ],
   "source": [
    "# total # of words\n",
    "\n",
    "len(all_words)"
   ]
  },
  {
   "cell_type": "code",
   "execution_count": 9,
   "metadata": {},
   "outputs": [],
   "source": [
    "# import Word2Vec\n",
    "\n",
    "from gensim.models import Word2Vec\n",
    "\n",
    "# create Word2Vec, no words with freq < 2\n",
    "word2vec = Word2Vec([all_words], min_count=2)"
   ]
  },
  {
   "cell_type": "code",
   "execution_count": 10,
   "metadata": {},
   "outputs": [
    {
     "data": {
      "text/plain": "1345"
     },
     "execution_count": 10,
     "metadata": {},
     "output_type": "execute_result"
    }
   ],
   "source": [
    "len(word2vec.wv.vocab)"
   ]
  },
  {
   "cell_type": "code",
   "execution_count": 11,
   "metadata": {},
   "outputs": [
    {
     "data": {
      "text/plain": "683f9b0>,\n 'cover': <gensim.models.keyedvectors.Vocab at 0x1d47683f9e8>,\n 'interest': <gensim.models.keyedvectors.Vocab at 0x1d47683fa20>,\n 'area': <gensim.models.keyedvectors.Vocab at 0x1d47683fa58>,\n 'concern': <gensim.models.keyedvectors.Vocab at 0x1d47683fa90>,\n 'representations': <gensim.models.keyedvectors.Vocab at 0x1d47683fac8>,\n 'retrieval': <gensim.models.keyedvectors.Vocab at 0x1d47683fb00>,\n 'interpretation': <gensim.models.keyedvectors.Vocab at 0x1d47683fb38>,\n 'support': <gensim.models.keyedvectors.Vocab at 0x1d47683fb70>,\n 'discovery': <gensim.models.keyedvectors.Vocab at 0x1d47683fba8>,\n 'need': <gensim.models.keyedvectors.Vocab at 0x1d47683fbe0>,\n 'predictions': <gensim.models.keyedvectors.Vocab at 0x1d47683fc18>,\n 'change': <gensim.models.keyedvectors.Vocab at 0x1d47683fc50>,\n 'choices': <gensim.models.keyedvectors.Vocab at 0x1d47683fc88>,\n 'value': <gensim.models.keyedvectors.Vocab at 0x1d47683fcc0>,\n 'available': <gensim.models.keyedvectors.Vocab at 0x1d47683fcf8>,\n 'agent': <gensim.models.keyedvectors.Vocab at 0x1d47683fd30>,\n 'assume': <gensim.models.keyedvectors.Vocab at 0x1d47683fd68>,\n 'consequences': <gensim.models.keyedvectors.Vocab at 0x1d47683fda0>,\n 'requires': <gensim.models.keyedvectors.Vocab at 0x1d47683fdd8>,\n 'uncertainty': <gensim.models.keyedvectors.Vocab at 0x1d47683fe10>,\n 'assess': <gensim.models.keyedvectors.Vocab at 0x1d47683fe48>,\n 'assessment': <gensim.models.keyedvectors.Vocab at 0x1d47683fe80>,\n 'multi': <gensim.models.keyedvectors.Vocab at 0x1d47683feb8>,\n 'competition': <gensim.models.keyedvectors.Vocab at 0x1d47683fef0>,\n 'emergent': <gensim.models.keyedvectors.Vocab at 0x1d47683ff28>,\n 'swarm': <gensim.models.keyedvectors.Vocab at 0x1d47683ff60>,\n 'fundamental': <gensim.models.keyedvectors.Vocab at 0x1d47683ff98>,\n 'concept': <gensim.models.keyedvectors.Vocab at 0x1d47683ffd0>,\n 'improve': <gensim.models.keyedvectors.Vocab at 0x1d476843048>,\n 'experience': <gensim.models.keyedvectors.Vocab at 0x1d476843080>,\n 'unsupervised': <gensim.models.keyedvectors.Vocab at 0x1d4768430b8>,\n 'find': <gensim.models.keyedvectors.Vocab at 0x1d4768430f0>,\n 'input': <gensim.models.keyedvectors.Vocab at 0x1d476843128>,\n 'requiring': <gensim.models.keyedvectors.Vocab at 0x1d476843160>,\n 'label': <gensim.models.keyedvectors.Vocab at 0x1d476843198>,\n 'inputs': <gensim.models.keyedvectors.Vocab at 0x1d4768431d0>,\n 'supervised': <gensim.models.keyedvectors.Vocab at 0x1d476843208>,\n 'includes': <gensim.models.keyedvectors.Vocab at 0x1d476843240>,\n 'regression': <gensim.models.keyedvectors.Vocab at 0x1d476843278>,\n 'something': <gensim.models.keyedvectors.Vocab at 0x1d4768432b0>,\n 'belongs': <gensim.models.keyedvectors.Vocab at 0x1d4768432e8>,\n 'produce': <gensim.models.keyedvectors.Vocab at 0x1d476843320>,\n 'describes': <gensim.models.keyedvectors.Vocab at 0x1d476843358>,\n 'outputs': <gensim.models.keyedvectors.Vocab at 0x1d476843390>,\n 'predicts': <gensim.models.keyedvectors.Vocab at 0x1d4768433c8>,\n 'viewed': <gensim.models.keyedvectors.Vocab at 0x1d476843400>,\n 'possibly': <gensim.models.keyedvectors.Vocab at 0x1d476843438>,\n 'spam': <gensim.models.keyedvectors.Vocab at 0x1d476843470>,\n 'maps': <gensim.models.keyedvectors.Vocab at 0x1d4768434a8>,\n 'text': <gensim.models.keyedvectors.Vocab at 0x1d4768434e0>,\n 'complexity': <gensim.models.keyedvectors.Vocab at 0x1d476843518>,\n 'sample': <gensim.models.keyedvectors.Vocab at 0x1d476843550>,\n 'required': <gensim.models.keyedvectors.Vocab at 0x1d476843588>,\n 'good': <gensim.models.keyedvectors.Vocab at 0x1d4768435c0>,\n 'sequence': <gensim.models.keyedvectors.Vocab at 0x1d4768435f8>,\n 'nlp': <gensim.models.keyedvectors.Vocab at 0x1d476843630>,\n 'read': <gensim.models.keyedvectors.Vocab at 0x1d476843668>,\n 'sufficiently': <gensim.models.keyedvectors.Vocab at 0x1d4768436a0>,\n 'enable': <gensim.models.keyedvectors.Vocab at 0x1d4768436d8>,\n 'user': <gensim.models.keyedvectors.Vocab at 0x1d476843710>,\n 'acquisition': <gensim.models.keyedvectors.Vocab at 0x1d476843748>,\n 'written': <gensim.models.keyedvectors.Vocab at 0x1d476843780>,\n 'translation': <gensim.models.keyedvectors.Vocab at 0x1d4768437b8>,\n 'occurrence': <gensim.models.keyedvectors.Vocab at 0x1d4768437f0>,\n 'dog': <gensim.models.keyedvectors.Vocab at 0x1d476843828>,\n 'document': <gensim.models.keyedvectors.Vocab at 0x1d476843860>,\n 'words': <gensim.models.keyedvectors.Vocab at 0x1d476843898>,\n 'sentiment': <gensim.models.keyedvectors.Vocab at 0x1d4768438d0>,\n 'page': <gensim.models.keyedvectors.Vocab at 0x1d476843908>,\n 'semantic': <gensim.models.keyedvectors.Vocab at 0x1d476843940>,\n 'classify': <gensim.models.keyedvectors.Vocab at 0x1d476843978>,\n 'full': <gensim.models.keyedvectors.Vocab at 0x1d4768439b0>,\n 'sensors': <gensim.models.keyedvectors.Vocab at 0x1d4768439e8>,\n 'cameras': <gensim.models.keyedvectors.Vocab at 0x1d476843a20>,\n 'visible': <gensim.models.keyedvectors.Vocab at 0x1d476843a58>,\n 'spectrum': <gensim.models.keyedvectors.Vocab at 0x1d476843a90>,\n 'signals': <gensim.models.keyedvectors.Vocab at 0x1d476843ac8>,\n 'active': <gensim.models.keyedvectors.Vocab at 0x1d476843b00>,\n 'aspects': <gensim.models.keyedvectors.Vocab at 0x1d476843b38>,\n 'facial': <gensim.models.keyedvectors.Vocab at 0x1d476843b70>,\n 'object': <gensim.models.keyedvectors.Vocab at 0x1d476843ba8>,\n 'vision': <gensim.models.keyedvectors.Vocab at 0x1d476843be0>,\n 'analyze': <gensim.models.keyedvectors.Vocab at 0x1d476843c18>,\n 'visual': <gensim.models.keyedvectors.Vocab at 0x1d476843c50>,\n 'fifty': <gensim.models.keyedvectors.Vocab at 0x1d476843c88>,\n 'meter': <gensim.models.keyedvectors.Vocab at 0x1d476843cc0>,\n 'tall': <gensim.models.keyedvectors.Vocab at 0x1d476843cf8>,\n 'pedestrian': <gensim.models.keyedvectors.Vocab at 0x1d476843d30>,\n 'away': <gensim.models.keyedvectors.Vocab at 0x1d476843d68>,\n 'exactly': <gensim.models.keyedvectors.Vocab at 0x1d476843da0>,\n 'likelihood': <gensim.models.keyedvectors.Vocab at 0x1d476843dd8>,\n 'advanced': <gensim.models.keyedvectors.Vocab at 0x1d476843e10>,\n 'robotic': <gensim.models.keyedvectors.Vocab at 0x1d476843e48>,\n 'industrial': <gensim.models.keyedvectors.Vocab at 0x1d476843e80>,\n 'widely': <gensim.models.keyedvectors.Vocab at 0x1d476843eb8>,\n 'robot': <gensim.models.keyedvectors.Vocab at 0x1d476843ef0>,\n 'small': <gensim.models.keyedvectors.Vocab at 0x1d476843f28>,\n 'dynamic': <gensim.models.keyedvectors.Vocab at 0x1d476843f60>,\n 'pose': <gensim.models.keyedvectors.Vocab at 0x1d476843f98>,\n 'challenge': <gensim.models.keyedvectors.Vocab at 0x1d476843fd0>,\n 'breaking': <gensim.models.keyedvectors.Vocab at 0x1d476847048>,\n 'movement': <gensim.models.keyedvectors.Vocab at 0x1d476847080>,\n 'individual': <gensim.models.keyedvectors.Vocab at 0x1d4768470b8>,\n 'maintaining': <gensim.models.keyedvectors.Vocab at 0x1d4768470f0>,\n 'moravec': <gensim.models.keyedvectors.Vocab at 0x1d476847128>,\n 'paradox': <gensim.models.keyedvectors.Vocab at 0x1d476847160>,\n 'low': <gensim.models.keyedvectors.Vocab at 0x1d476847198>,\n 'take': <gensim.models.keyedvectors.Vocab at 0x1d4768471d0>,\n 'named': <gensim.models.keyedvectors.Vocab at 0x1d476847208>,\n 'hans': <gensim.models.keyedvectors.Vocab at 0x1d476847240>,\n 'stated': <gensim.models.keyedvectors.Vocab at 0x1d476847278>,\n 'easy': <gensim.models.keyedvectors.Vocab at 0x1d4768472b0>,\n 'exhibit': <gensim.models.keyedvectors.Vocab at 0x1d4768472e8>,\n 'performance': <gensim.models.keyedvectors.Vocab at 0x1d476847320>,\n 'tests': <gensim.models.keyedvectors.Vocab at 0x1d476847358>,\n 'impossible': <gensim.models.keyedvectors.Vocab at 0x1d476847390>,\n 'give': <gensim.models.keyedvectors.Vocab at 0x1d4768473c8>,\n 'old': <gensim.models.keyedvectors.Vocab at 0x1d476847400>,\n 'target': <gensim.models.keyedvectors.Vocab at 0x1d476847438>,\n 'forms': <gensim.models.keyedvectors.Vocab at 0x1d476847470>,\n 'distributed': <gensim.models.keyedvectors.Vocab at 0x1d4768474a8>,\n 'coordination': <gensim.models.keyedvectors.Vocab at 0x1d4768474e0>,\n 'autonomous': <gensim.models.keyedvectors.Vocab at 0x1d476847518>,\n 'vehicles': <gensim.models.keyedvectors.Vocab at 0x1d476847550>,\n 'affective': <gensim.models.keyedvectors.Vocab at 0x1d476847588>,\n 'affects': <gensim.models.keyedvectors.Vocab at 0x1d4768475c0>,\n 'successes': <gensim.models.keyedvectors.Vocab at 0x1d4768475f8>,\n 'related': <gensim.models.keyedvectors.Vocab at 0x1d476847630>,\n 'analysis': <gensim.models.keyedvectors.Vocab at 0x1d476847668>,\n 'recently': <gensim.models.keyedvectors.Vocab at 0x1d4768476a0>,\n 'multimodal': <gensim.models.keyedvectors.Vocab at 0x1d4768476d8>,\n 'wherein': <gensim.models.keyedvectors.Vocab at 0x1d476847710>,\n 'classifies': <gensim.models.keyedvectors.Vocab at 0x1d476847748>,\n 'subject': <gensim.models.keyedvectors.Vocab at 0x1d476847780>,\n 'emotion': <gensim.models.keyedvectors.Vocab at 0x1d4768477b8>,\n 'valuable': <gensim.models.keyedvectors.Vocab at 0x1d4768477f0>,\n 'predict': <gensim.models.keyedvectors.Vocab at 0x1d476847828>,\n 'emotional': <gensim.models.keyedvectors.Vocab at 0x1d476847860>,\n 'allow': <gensim.models.keyedvectors.Vocab at 0x1d476847898>,\n 'decisions': <gensim.models.keyedvectors.Vocab at 0x1d4768478d0>,\n 'appear': <gensim.models.keyedvectors.Vocab at 0x1d476847908>,\n 'interaction': <gensim.models.keyedvectors.Vocab at 0x1d476847940>,\n 'similarly': <gensim.models.keyedvectors.Vocab at 0x1d476847978>,\n 'virtual': <gensim.models.keyedvectors.Vocab at 0x1d4768479b0>,\n 'tends': <gensim.models.keyedvectors.Vocab at 0x1d4768479e8>,\n 'users': <gensim.models.keyedvectors.Vocab at 0x1d476847a20>,\n 'actually': <gensim.models.keyedvectors.Vocab at 0x1d476847a58>,\n 'cyc': <gensim.models.keyedvectors.Vocab at 0x1d476847a90>,\n 'massive': <gensim.models.keyedvectors.Vocab at 0x1d476847ac8>,\n 'attempted': <gensim.models.keyedvectors.Vocab at 0x1d476847b00>,\n 'breadth': <gensim.models.keyedvectors.Vocab at 0x1d476847b38>,\n 'cognition': <gensim.models.keyedvectors.Vocab at 0x1d476847b70>,\n 'limitations': <gensim.models.keyedvectors.Vocab at 0x1d476847ba8>,\n 'cross': <gensim.models.keyedvectors.Vocab at 0x1d476847be0>,\n 'nowadays': <gensim.models.keyedvectors.Vocab at 0x1d476847c18>,\n 'tractable': <gensim.models.keyedvectors.Vocab at 0x1d476847c50>,\n 'automobile': <gensim.models.keyedvectors.Vocab at 0x1d476847c88>,\n 'navigation': <gensim.models.keyedvectors.Vocab at 0x1d476847cc0>,\n 'eventually': <gensim.models.keyedvectors.Vocab at 0x1d476847cf8>,\n 'agi': <gensim.models.keyedvectors.Vocab at 0x1d476847d30>,\n 'article': <gensim.models.keyedvectors.Vocab at 0x1d476847d68>,\n 'point': <gensim.models.keyedvectors.Vocab at 0x1d476847da0>,\n 'profile': <gensim.models.keyedvectors.Vocab at 0x1d476847dd8>,\n 'deepmind': <gensim.models.keyedvectors.Vocab at 0x1d476847e10>,\n 'sequential': <gensim.models.keyedvectors.Vocab at 0x1d476847e48>,\n 'transfer': <gensim.models.keyedvectors.Vocab at 0x1d476847e80>,\n 'hypothetical': <gensim.models.keyedvectors.Vocab at 0x1d476847eb8>,\n 'argue': <gensim.models.keyedvectors.Vocab at 0x1d476847ef0>,\n 'kind': <gensim.models.keyedvectors.Vocab at 0x1d476847f28>,\n 'currently': <gensim.models.keyedvectors.Vocab at 0x1d476847f60>,\n 'lead': <gensim.models.keyedvectors.Vocab at 0x1d476847f98>,\n 'look': <gensim.models.keyedvectors.Vocab at 0x1d476847fd0>,\n 'closely': <gensim.models.keyedvectors.Vocab at 0x1d47684a048>,\n 'reach': <gensim.models.keyedvectors.Vocab at 0x1d47684a080>,\n 'author': <gensim.models.keyedvectors.Vocab at 0x1d47684a0b8>,\n 'argument': <gensim.models.keyedvectors.Vocab at 0x1d47684a0f0>,\n 'order': <gensim.models.keyedvectors.Vocab at 0x1d47684a128>,\n 'questions': <gensim.models.keyedvectors.Vocab at 0x1d47684a160>,\n 'biology': <gensim.models.keyedvectors.Vocab at 0x1d47684a198>,\n 'bird': <gensim.models.keyedvectors.Vocab at 0x1d47684a1d0>,\n 'principles': <gensim.models.keyedvectors.Vocab at 0x1d47684a208>,\n 'necessarily': <gensim.models.keyedvectors.Vocab at 0x1d47684a240>,\n 'completely': <gensim.models.keyedvectors.Vocab at 0x1d47684a278>,\n 'grey': <gensim.models.keyedvectors.Vocab at 0x1d47684a2b0>,\n 'walter': <gensim.models.keyedvectors.Vocab at 0x1d47684a2e8>,\n 'society': <gensim.models.keyedvectors.Vocab at 0x1d47684a320>,\n 'university': <gensim.models.keyedvectors.Vocab at 0x1d47684a358>,\n 'largely': <gensim.models.keyedvectors.Vocab at 0x1d47684a390>,\n 'abandoned': <gensim.models.keyedvectors.Vocab at 0x1d47684a3c8>,\n 'although': <gensim.models.keyedvectors.Vocab at 0x1d47684a400>,\n 'reduced': <gensim.models.keyedvectors.Vocab at 0x1d47684a438>,\n 'centered': <gensim.models.keyedvectors.Vocab at 0x1d47684a470>,\n 'carnegie': <gensim.models.keyedvectors.Vocab at 0x1d47684a4a8>,\n 'mellon': <gensim.models.keyedvectors.Vocab at 0x1d47684a4e0>,\n 'stanford': <gensim.models.keyedvectors.Vocab at 0x1d47684a518>,\n 'gofai': <gensim.models.keyedvectors.Vocab at 0x1d47684a550>,\n 'great': <gensim.models.keyedvectors.Vocab at 0x1d47684a588>,\n 'thinking': <gensim.models.keyedvectors.Vocab at 0x1d47684a5c0>,\n 'economist': <gensim.models.keyedvectors.Vocab at 0x1d47684a5f8>,\n 'studied': <gensim.models.keyedvectors.Vocab at 0x1d47684a630>,\n 'management': <gensim.models.keyedvectors.Vocab at 0x1d47684a668>,\n 'team': <gensim.models.keyedvectors.Vocab at 0x1d47684a6a0>,\n 'psychological': <gensim.models.keyedvectors.Vocab at 0x1d47684a6d8>,\n 'experiments': <gensim.models.keyedvectors.Vocab at 0x1d47684a710>,\n 'develop': <gensim.models.keyedvectors.Vocab at 0x1d47684a748>,\n 'architecture': <gensim.models.keyedvectors.Vocab at 0x1d47684a780>,\n 'try': <gensim.models.keyedvectors.Vocab at 0x1d47684a7b8>,\n 'focused': <gensim.models.keyedvectors.Vocab at 0x1d47684a7f0>,\n 'variety': <gensim.models.keyedvectors.Vocab at 0x1d47684a828>,\n 'focus': <gensim.models.keyedvectors.Vocab at 0x1d47684a860>,\n 'programming': <gensim.models.keyedvectors.Vocab at 0x1d47684a898>,\n 'found': <gensim.models.keyedvectors.Vocab at 0x1d47684a8d0>,\n 'ad': <gensim.models.keyedvectors.Vocab at 0x1d47684a908>,\n 'hoc': <gensim.models.keyedvectors.Vocab at 0x1d47684a940>,\n 'solutions': <gensim.models.keyedvectors.Vocab at 0x1d47684a978>,\n 'argued': <gensim.models.keyedvectors.Vocab at 0x1d47684a9b0>,\n 'scruffy': <gensim.models.keyedvectors.Vocab at 0x1d47684a9e8>,\n 'bases': <gensim.models.keyedvectors.Vocab at 0x1d47684aa20>,\n 'hand': <gensim.models.keyedvectors.Vocab at 0x1d47684aa58>,\n 'complicated': <gensim.models.keyedvectors.Vocab at 0x1d47684aa90>,\n 'memories': <gensim.models.keyedvectors.Vocab at 0x1d47684aac8>,\n 'build': <gensim.models.keyedvectors.Vocab at 0x1d47684ab00>,\n 'revolution': <gensim.models.keyedvectors.Vocab at 0x1d47684ab38>,\n 'introduced': <gensim.models.keyedvectors.Vocab at 0x1d47684ab70>,\n 'edward': <gensim.models.keyedvectors.Vocab at 0x1d47684aba8>,\n 'successful': <gensim.models.keyedvectors.Vocab at 0x1d47684abe0>,\n 'key': <gensim.models.keyedvectors.Vocab at 0x1d47684ac18>,\n 'component': <gensim.models.keyedvectors.Vocab at 0x1d47684ac50>,\n 'facts': <gensim.models.keyedvectors.Vocab at 0x1d47684ac88>,\n 'illustrate': <gensim.models.keyedvectors.Vocab at 0x1d47684acc0>,\n 'driven': <gensim.models.keyedvectors.Vocab at 0x1d47684acf8>,\n 'enormous': <gensim.models.keyedvectors.Vocab at 0x1d47684ad30>,\n 'imitate': <gensim.models.keyedvectors.Vocab at 0x1d47684ad68>,\n 'especially': <gensim.models.keyedvectors.Vocab at 0x1d47684ada0>,\n 'manage': <gensim.models.keyedvectors.Vocab at 0x1d47684add8>,\n 'embodied': <gensim.models.keyedvectors.Vocab at 0x1d47684ae10>,\n 'rodney': <gensim.models.keyedvectors.Vocab at 0x1d47684ae48>,\n 'brooks': <gensim.models.keyedvectors.Vocab at 0x1d47684ae80>,\n 'survive': <gensim.models.keyedvectors.Vocab at 0x1d47684aeb8>,\n 'view': <gensim.models.keyedvectors.Vocab at 0x1d47684aef0>,\n 'control': <gensim.models.keyedvectors.Vocab at 0x1d47684af28>,\n 'idea': <gensim.models.keyedvectors.Vocab at 0x1d47684af60>,\n 'higher': <gensim.models.keyedvectors.Vocab at 0x1d47684af98>,\n 'developmental': <gensim.models.keyedvectors.Vocab at 0x1d47684afd0>,\n 'novel': <gensim.models.keyedvectors.Vocab at 0x1d47684e048>,\n 'david': <gensim.models.keyedvectors.Vocab at 0x1d47684e080>,\n 'soft': <gensim.models.keyedvectors.Vocab at 0x1d47684e0b8>,\n 'solution': <gensim.models.keyedvectors.Vocab at 0x1d47684e0f0>,\n 'sufficient': <gensim.models.keyedvectors.Vocab at 0x1d47684e128>,\n 'fuzzy': <gensim.models.keyedvectors.Vocab at 0x1d47684e160>,\n 'application': <gensim.models.keyedvectors.Vocab at 0x1d47684e198>,\n 'sophisticated': <gensim.models.keyedvectors.Vocab at 0x1d47684e1d0>,\n 'hidden': <gensim.models.keyedvectors.Vocab at 0x1d47684e208>,\n 'markov': <gensim.models.keyedvectors.Vocab at 0x1d47684e240>,\n 'hmm': <gensim.models.keyedvectors.Vocab at 0x1d47684e278>,\n 'compare': <gensim.models.keyedvectors.Vocab at 0x1d47684e2b0>,\n 'shared': <gensim.models.keyedvectors.Vocab at 0x1d47684e2e8>,\n 'levels': <gensim.models.keyedvectors.Vocab at 0x1d47684e320>,\n 'acquiring': <gensim.models.keyedvectors.Vocab at 0x1d47684e358>,\n 'test': <gensim.models.keyedvectors.Vocab at 0x1d47684e390>,\n 'performed': <gensim.models.keyedvectors.Vocab at 0x1d47684e3c8>,\n 'combinations': <gensim.models.keyedvectors.Vocab at 0x1d47684e400>,\n 'critics': <gensim.models.keyedvectors.Vocab at 0x1d47684e438>,\n 'shift': <gensim.models.keyedvectors.Vocab at 0x1d47684e470>,\n 'necessary': <gensim.models.keyedvectors.Vocab at 0x1d47684e4a8>,\n 'searching': <gensim.models.keyedvectors.Vocab at 0x1d47684e4e0>,\n 'rule': <gensim.models.keyedvectors.Vocab at 0x1d47684e518>,\n 'ends': <gensim.models.keyedvectors.Vocab at 0x1d47684e550>,\n 'moving': <gensim.models.keyedvectors.Vocab at 0x1d47684e588>,\n 'searches': <gensim.models.keyedvectors.Vocab at 0x1d47684e5c0>,\n 'numbers': <gensim.models.keyedvectors.Vocab at 0x1d47684e5f8>,\n 'result': <gensim.models.keyedvectors.Vocab at 0x1d47684e630>,\n 'slow': <gensim.models.keyedvectors.Vocab at 0x1d47684e668>,\n 'steps': <gensim.models.keyedvectors.Vocab at 0x1d47684e6a0>,\n 'serve': <gensim.models.keyedvectors.Vocab at 0x1d47684e6d8>,\n 'entirely': <gensim.models.keyedvectors.Vocab at 0x1d47684e710>,\n 'tree': <gensim.models.keyedvectors.Vocab at 0x1d47684e748>,\n 'guess': <gensim.models.keyedvectors.Vocab at 0x1d47684e780>,\n 'limit': <gensim.models.keyedvectors.Vocab at 0x1d47684e7b8>,\n 'size': <gensim.models.keyedvectors.Vocab at 0x1d47684e7f0>,\n 'begin': <gensim.models.keyedvectors.Vocab at 0x1d47684e828>,\n 'random': <gensim.models.keyedvectors.Vocab at 0x1d47684e860>,\n 'landscape': <gensim.models.keyedvectors.Vocab at 0x1d47684e898>,\n 'keep': <gensim.models.keyedvectors.Vocab at 0x1d47684e8d0>,\n 'population': <gensim.models.keyedvectors.Vocab at 0x1d47684e908>,\n 'guesses': <gensim.models.keyedvectors.Vocab at 0x1d47684e940>,\n 'genetic': <gensim.models.keyedvectors.Vocab at 0x1d47684e978>,\n 'expression': <gensim.models.keyedvectors.Vocab at 0x1d47684e9b0>,\n 'via': <gensim.models.keyedvectors.Vocab at 0x1d47684e9e8>,\n 'ant': <gensim.models.keyedvectors.Vocab at 0x1d47684ea20>,\n 'applied': <gensim.models.keyedvectors.Vocab at 0x1d47684ea58>,\n 'method': <gensim.models.keyedvectors.Vocab at 0x1d47684ea90>,\n 'truth': <gensim.models.keyedvectors.Vocab at 0x1d47684eac8>,\n 'assigns': <gensim.models.keyedvectors.Vocab at 0x1d47684eb00>,\n 'vague': <gensim.models.keyedvectors.Vocab at 0x1d47684eb38>,\n 'statements': <gensim.models.keyedvectors.Vocab at 0x1d47684eb70>,\n 'contribute': <gensim.models.keyedvectors.Vocab at 0x1d47684eba8>,\n 'close': <gensim.models.keyedvectors.Vocab at 0x1d47684ebe0>,\n 'train': <gensim.models.keyedvectors.Vocab at 0x1d47684ec18>,\n 'brake': <gensim.models.keyedvectors.Vocab at 0x1d47684ec50>,\n 'default': <gensim.models.keyedvectors.Vocab at 0x1d47684ec88>,\n 'logics': <gensim.models.keyedvectors.Vocab at 0x1d47684ecc0>,\n 'help': <gensim.models.keyedvectors.Vocab at 0x1d47684ecf8>,\n 'handle': <gensim.models.keyedvectors.Vocab at 0x1d47684ed30>,\n 'calculus': <gensim.models.keyedvectors.Vocab at 0x1d47684ed68>,\n 'event': <gensim.models.keyedvectors.Vocab at 0x1d47684eda0>,\n 'causal': <gensim.models.keyedvectors.Vocab at 0x1d47684edd8>,\n ...}"
     },
     "execution_count": 11,
     "metadata": {},
     "output_type": "execute_result"
    }
   ],
   "source": [
    "# vocabulary maps each word to a tensor\n",
    "\n",
    "word2vec.wv.vocab"
   ]
  },
  {
   "cell_type": "code",
   "execution_count": 12,
   "metadata": {},
   "outputs": [
    {
     "data": {
      "text/plain": "array([-4.2200703e-03,  4.2646267e-03,  1.3033608e-03,  2.3771303e-04,\n        7.9396332e-04,  5.3310101e-03, -1.0929332e-03,  5.5002836e-03,\n        4.4052843e-03, -4.5145601e-03, -6.5544578e-03, -1.5000853e-03,\n       -1.9468633e-03,  2.6910456e-03,  1.2082589e-02,  4.6160184e-03,\n        6.0704385e-04,  2.5428620e-03,  4.6923752e-03, -6.9670030e-03,\n       -7.8677256e-03,  1.2521048e-02, -2.7099906e-03, -2.2589155e-03,\n       -3.1183278e-03, -2.2527194e-03, -5.5147214e-03,  2.3510803e-03,\n        3.0719298e-03, -4.9976553e-03,  5.9758229e-03, -1.8805023e-03,\n       -4.1475147e-03,  2.7430493e-03,  3.9193816e-03, -6.9486341e-03,\n        3.2794962e-03,  3.0808768e-04,  1.9147416e-03, -3.0170912e-03,\n        7.2778459e-03,  1.1024425e-03, -5.0140019e-03, -4.8578111e-03,\n       -2.8422954e-03,  6.0934632e-04,  2.2722674e-03,  1.7705726e-03,\n       -7.0803482e-03, -2.7537126e-05, -4.6176864e-03, -8.5542724e-03,\n        5.1947962e-03, -6.5082838e-03, -4.9285372e-03, -8.3690666e-04,\n       -3.1627638e-03, -6.6308556e-03, -9.4110647e-04,  7.6737273e-03,\n       -8.0015333e-03,  9.4631314e-03,  7.5325780e-03,  5.6096613e-03,\n        8.3846282e-03, -5.8217579e-03, -6.0816160e-03,  5.0521167e-03,\n       -1.2702349e-03, -1.4531992e-03,  2.3626755e-03,  1.0961076e-02,\n       -3.4056976e-03, -1.0164687e-02, -4.5524603e-03, -3.3696194e-03,\n        1.5837065e-04,  2.6047211e-03,  5.8851379e-04, -3.0421871e-03,\n       -1.5907105e-03,  1.3434405e-03, -5.0660837e-03, -2.8092328e-03,\n       -5.5870297e-03, -3.5758775e-03,  6.4058793e-03,  1.6127455e-03,\n       -5.9642983e-03, -3.4320550e-03, -4.2047757e-03,  1.7952097e-03,\n        5.3814901e-03, -8.0456864e-03, -5.2474379e-03, -2.3711631e-03,\n       -9.9882511e-03,  4.8242314e-03,  5.4099020e-03,  3.6840581e-03],\n      dtype=float32)"
     },
     "execution_count": 12,
     "metadata": {},
     "output_type": "execute_result"
    }
   ],
   "source": [
    "# get the tensor for a specific word\n",
    "\n",
    "word2vec.wv['artificial']"
   ]
  },
  {
   "cell_type": "code",
   "execution_count": 13,
   "metadata": {},
   "outputs": [
    {
     "data": {
      "text/plain": "100"
     },
     "execution_count": 13,
     "metadata": {},
     "output_type": "execute_result"
    }
   ],
   "source": [
    "# how many dimensions in the tensor?\n",
    "\n",
    "len(word2vec.wv['artificial'])"
   ]
  },
  {
   "cell_type": "code",
   "execution_count": 14,
   "metadata": {},
   "outputs": [
    {
     "data": {
      "text/plain": "[('ai', 0.8141664266586304),\n ('human', 0.7835574150085449),\n ('many', 0.7350308895111084),\n ('artificial', 0.7282922267913818),\n ('researchers', 0.7233484387397766),\n ('research', 0.7007607817649841),\n ('learning', 0.6979109048843384),\n ('problem', 0.6950682997703552),\n ('well', 0.693013072013855),\n ('networks', 0.6913335919380188)]"
     },
     "execution_count": 14,
     "metadata": {},
     "output_type": "execute_result"
    }
   ],
   "source": [
    "# find words most similar to \"intelligence\"\n",
    "\n",
    "word2vec.wv.most_similar('intelligence')"
   ]
  },
  {
   "cell_type": "code",
   "execution_count": 15,
   "metadata": {},
   "outputs": [
    {
     "data": {
      "text/plain": "[('intelligence', 0.8141664266586304),\n ('human', 0.7721558213233948),\n ('machines', 0.7628246545791626),\n ('theory', 0.7381200194358826),\n ('use', 0.7366983890533447),\n ('problem', 0.7361205816268921),\n ('networks', 0.7299946546554565),\n ('also', 0.7205549478530884),\n ('artificial', 0.7199418544769287),\n ('humans', 0.7092365622520447)]"
     },
     "execution_count": 15,
     "metadata": {},
     "output_type": "execute_result"
    }
   ],
   "source": [
    "# find words most similar to \"intelligence\"\n",
    "\n",
    "word2vec.wv.most_similar('ai')"
   ]
  }
 ],
 "metadata": {
  "kernelspec": {
   "display_name": "Python 3",
   "language": "python",
   "name": "python3"
  },
  "language_info": {
   "codemirror_mode": {
    "name": "ipython",
    "version": 3
   },
   "file_extension": ".py",
   "mimetype": "text/x-python",
   "name": "python",
   "nbconvert_exporter": "python",
   "pygments_lexer": "ipython3",
   "version": "3.7.3-final"
  }
 },
 "nbformat": 4,
 "nbformat_minor": 2
}