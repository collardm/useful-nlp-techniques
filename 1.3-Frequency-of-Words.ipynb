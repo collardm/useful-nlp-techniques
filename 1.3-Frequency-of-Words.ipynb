{
 "cells": [
  {
   "cell_type": "code",
   "execution_count": 1,
   "metadata": {},
   "outputs": [],
   "source": [
    "# import the necessary packages\n",
    "\n",
    "import nltk\n",
    "import re\n",
    "import string\n"
   ]
  },
  {
   "cell_type": "code",
   "execution_count": 2,
   "metadata": {},
   "outputs": [],
   "source": [
    "# and define helper functions\n",
    "\n",
    "def lower_tokens(tokens):\n",
    "    return [token.lower() for token in tokens]\n",
    "\n",
    "def remove_punctuation_tokens(tokens):\n",
    "    punct_regex = re.compile('[{}]'.format(re.escape(string.punctuation)))\n",
    "    return [a for a,b in zip(tokens, [punct_regex.sub('', token) for token in tokens]) if b != '']\n",
    "\n",
    "def get_cleaned_tokens(tokens):\n",
    "    return remove_punctuation_tokens(lower_tokens(tokens))\n",
    "\n",
    "def remove_stopword_tokens(tokens):\n",
    "    stopwords = nltk.corpus.stopwords.words('english')\n",
    "    return [token for token in tokens if token not in stopwords]\n",
    "\n",
    "def remove_punctuation_in_tokens(tokens):\n",
    "    punct_regex = re.compile('[{}]'.format(re.escape(string.punctuation)))\n",
    "    return [punct_regex.sub('', token) for token in tokens]\n",
    "\n",
    "def preprocess_sentence(sentence):\n",
    "    return remove_stopword_tokens(remove_punctuation_in_tokens(get_cleaned_tokens(nltk.word_tokenize(sentence))))"
   ]
  },
  {
   "cell_type": "code",
   "execution_count": 3,
   "metadata": {},
   "outputs": [
    {
     "data": {
      "text/plain": "\"No one would have believed in the last years of the nineteenth century\\nthat this world was being watched keenly and closely by intelligences\\ngreater than man's and yet as mortal as his own; that as men busied\\nthemselves about their various concerns they were scrutinised and\\nstudied, perhaps almost as narrowly as a man with a microscope might\\nscrutinise the transient creatures that swarm and multiply in a drop of\\nwater. With infinite complacency men went to and fro over this globe\\nabout their little affairs, serene in their assurance of their empire\\nover matter. It is possible that the infusoria under the microscope do\\nthe same. No one gave a thought to the older worlds of space as sources\\nof human danger, or thought of them only to dismiss the idea of life\\nupon them as impossible or improbable. It is curious to recall some of\\nthe mental habits of those departed days. At most terrestrial men\\nfancied there might be other men upon Mars, perhaps inferior to\\nthemselves and ready to welcome a missionary enterprise. Yet across the\\ngulf of space, minds that are to our minds as ours are to those of the\\nbeasts that perish, intellects vast and cool and unsympathetic,\\nregarded this earth with envious eyes, and slowly and surely drew their\\nplans against us. And early in the twentieth century came the great\\ndisillusionment.\""
     },
     "execution_count": 3,
     "metadata": {},
     "output_type": "execute_result"
    }
   ],
   "source": [
    "# for this example we'll use the Ward of the Wolds from Gutenberg (copied locally)\n",
    "with open(\"wotw.txt\") as file:\n",
    "    wotw_text = file.read()\n",
    "    \n",
    "# this prints the first paragraph\n",
    "section1 = wotw_text[1150:2481]\n",
    "section1"
   ]
  },
  {
   "cell_type": "code",
   "execution_count": 4,
   "metadata": {},
   "outputs": [
    {
     "name": "stderr",
     "output_type": "stream",
     "text": "[nltk_data] Downloading package punkt to\n[nltk_data]     C:\\Users\\maxen\\AppData\\Roaming\\nltk_data...\n[nltk_data]   Package punkt is already up-to-date!\n"
    },
    {
     "data": {
      "text/plain": "True"
     },
     "execution_count": 4,
     "metadata": {},
     "output_type": "execute_result"
    }
   ],
   "source": [
    "# download punkt components\n",
    "\n",
    "nltk.download('punkt')"
   ]
  },
  {
   "cell_type": "code",
   "execution_count": 5,
   "metadata": {},
   "outputs": [],
   "source": [
    "# word tokenize the entire book\n",
    "\n",
    "all_tokens = nltk.word_tokenize(wotw_text)"
   ]
  },
  {
   "cell_type": "code",
   "execution_count": 6,
   "metadata": {},
   "outputs": [
    {
     "data": {
      "text/plain": "69105"
     },
     "execution_count": 6,
     "metadata": {},
     "output_type": "execute_result"
    }
   ],
   "source": [
    "# how many tokens in the whole novel?\n",
    "len(all_tokens)"
   ]
  },
  {
   "cell_type": "code",
   "execution_count": 7,
   "metadata": {},
   "outputs": [
    {
     "data": {
      "text/plain": "['The',\n 'War',\n 'of',\n 'the',\n 'Worlds',\n 'by',\n 'H.',\n 'G.',\n 'Wells',\n \"'But\",\n 'who',\n 'shall',\n 'dwell',\n 'in',\n 'these',\n 'worlds',\n 'if',\n 'they',\n 'be',\n 'inhabited']"
     },
     "execution_count": 7,
     "metadata": {},
     "output_type": "execute_result"
    }
   ],
   "source": [
    "# first 20 tokens\n",
    "\n",
    "all_tokens[:20]"
   ]
  },
  {
   "cell_type": "code",
   "execution_count": 8,
   "metadata": {},
   "outputs": [],
   "source": [
    "# import the FreqDist module\n",
    "\n",
    "from nltk.probability import FreqDist"
   ]
  },
  {
   "cell_type": "code",
   "execution_count": 9,
   "metadata": {},
   "outputs": [],
   "source": [
    "# create a frequency distribution for all our tokens\n",
    "\n",
    "fdist = FreqDist(all_tokens)"
   ]
  },
  {
   "cell_type": "code",
   "execution_count": 10,
   "metadata": {},
   "outputs": [
    {
     "data": {
      "text/plain": "7591"
     },
     "execution_count": 10,
     "metadata": {},
     "output_type": "execute_result"
    }
   ],
   "source": [
    "# check the number of tokens.  This will be the number of unique tokens identified\n",
    "\n",
    "len(set(all_tokens))"
   ]
  },
  {
   "cell_type": "code",
   "execution_count": 11,
   "metadata": {},
   "outputs": [
    {
     "data": {
      "text/plain": "7591"
     },
     "execution_count": 11,
     "metadata": {},
     "output_type": "execute_result"
    }
   ],
   "source": [
    "# while can also be found this way\n",
    "\n",
    "len(fdist)"
   ]
  },
  {
   "cell_type": "code",
   "execution_count": 12,
   "metadata": {},
   "outputs": [
    {
     "data": {
      "text/plain": "(69105, 7591)"
     },
     "execution_count": 12,
     "metadata": {},
     "output_type": "execute_result"
    }
   ],
   "source": [
    "# retrieves those two values explecitly\n",
    "\n",
    "fdist.N(), fdist.B()"
   ]
  },
  {
   "cell_type": "code",
   "execution_count": 13,
   "metadata": {},
   "outputs": [
    {
     "data": {
      "text/plain": "FreqDist({'the': 4399, ',': 4132, '.': 3113, 'and': 2355, 'of': 2283, 'a': 1525, 'I': 1287, 'to': 1157, 'in': 916, 'was': 851, ...})"
     },
     "execution_count": 13,
     "metadata": {},
     "output_type": "execute_result"
    }
   ],
   "source": [
    "# this shows a summary of the frequency distribution\n",
    "\n",
    "fdist"
   ]
  },
  {
   "cell_type": "code",
   "execution_count": 14,
   "metadata": {},
   "outputs": [
    {
     "data": {
      "text/plain": "[('the', 4399),\n (',', 4132),\n ('.', 3113),\n ('and', 2355),\n ('of', 2283),\n ('a', 1525),\n ('I', 1287),\n ('to', 1157),\n ('in', 916),\n ('was', 851)]"
     },
     "execution_count": 14,
     "metadata": {},
     "output_type": "execute_result"
    }
   ],
   "source": [
    "# easy to get the 10 most common tokens and their frequency\n",
    "\n",
    "fdist.most_common(10)"
   ]
  },
  {
   "cell_type": "code",
   "execution_count": 15,
   "metadata": {},
   "outputs": [
    {
     "data": {
      "text/plain": "[('gibber', 1),\n ('fiercer', 1),\n ('paler', 1),\n ('uglier', 1),\n ('distortions', 1),\n ('haunting', 1),\n ('mockery', 1),\n ('beds', 1),\n ('sight-seers', 1),\n ('clear-cut', 1)]"
     },
     "execution_count": 15,
     "metadata": {},
     "output_type": "execute_result"
    }
   ],
   "source": [
    "# a slice can get us the last 10\n",
    "\n",
    "fdist.most_common()[-10:]"
   ]
  },
  {
   "cell_type": "code",
   "execution_count": 16,
   "metadata": {},
   "outputs": [
    {
     "data": {
      "text/plain": "0.06365675421460097"
     },
     "execution_count": 16,
     "metadata": {},
     "output_type": "execute_result"
    }
   ],
   "source": [
    "# get the frequency of a specific term\n",
    "fdist.freq('the')"
   ]
  },
  {
   "cell_type": "code",
   "execution_count": 17,
   "metadata": {},
   "outputs": [
    {
     "data": {
      "text/plain": "1.4470732942623544e-05"
     },
     "execution_count": 17,
     "metadata": {},
     "output_type": "execute_result"
    }
   ],
   "source": [
    "# and another\n",
    "\n",
    "fdist.freq('gibber')"
   ]
  },
  {
   "cell_type": "code",
   "execution_count": 18,
   "metadata": {},
   "outputs": [
    {
     "data": {
      "text/plain": "0.06365675421460097"
     },
     "execution_count": 18,
     "metadata": {},
     "output_type": "execute_result"
    }
   ],
   "source": [
    "# check the percentage matches\n",
    "\n",
    "fdist.get(\"the\") / fdist.N()"
   ]
  },
  {
   "cell_type": "code",
   "execution_count": 19,
   "metadata": {},
   "outputs": [
    {
     "data": {
      "text/plain": "<Figure size 1200x800 with 1 Axes>"
     },
     "metadata": {},
     "output_type": "display_data"
    }
   ],
   "source": [
    "# let's visualize this distribution\n",
    "\n",
    "import matplotlib.pyplot as plt\n",
    "fig, ax = plt.subplots(figsize=(12, 8))\n",
    "fdist.plot(40, cumulative=False)\n",
    "plt.show()"
   ]
  },
  {
   "cell_type": "code",
   "execution_count": 20,
   "metadata": {},
   "outputs": [
    {
     "data": {
      "text/plain": "['War',\n 'Worlds',\n 'H.',\n 'G.',\n 'Wells',\n \"'But\",\n 'dwell',\n 'inhabited',\n 'Lords',\n 'World']"
     },
     "execution_count": 20,
     "metadata": {},
     "output_type": "execute_result"
    }
   ],
   "source": [
    "# find all tokens that only occur once\n",
    "\n",
    "used_once = [item[0] for item in fdist.items() if item[1]==1]\n",
    "used_once[:10]"
   ]
  },
  {
   "cell_type": "code",
   "execution_count": 21,
   "metadata": {},
   "outputs": [
    {
     "data": {
      "text/plain": "3852"
     },
     "execution_count": 21,
     "metadata": {},
     "output_type": "execute_result"
    }
   ],
   "source": [
    "# and see how many there are\n",
    "\n",
    "len(used_once)"
   ]
  },
  {
   "cell_type": "code",
   "execution_count": 22,
   "metadata": {},
   "outputs": [
    {
     "data": {
      "text/plain": "5705"
     },
     "execution_count": 22,
     "metadata": {},
     "output_type": "execute_result"
    }
   ],
   "source": [
    "# find all tokens that have a count < 4\n",
    "\n",
    "least_common = [item[0] for item in fdist.items() if item[1]<4]\n",
    "len(least_common)"
   ]
  },
  {
   "cell_type": "code",
   "execution_count": 23,
   "metadata": {},
   "outputs": [
    {
     "data": {
      "text/plain": "1886"
     },
     "execution_count": 23,
     "metadata": {},
     "output_type": "execute_result"
    }
   ],
   "source": [
    "# or 4 or more\n",
    "\n",
    "not_least_common = [item[0] for item in fdist.items() if item[1]>=4]\n",
    "len(not_least_common)"
   ]
  },
  {
   "cell_type": "code",
   "execution_count": 24,
   "metadata": {},
   "outputs": [
    {
     "data": {
      "text/plain": "['The', 'of', 'the', 'by', 'who', 'shall', 'in', 'these', 'if', 'they']"
     },
     "execution_count": 24,
     "metadata": {},
     "output_type": "execute_result"
    }
   ],
   "source": [
    "# sample 10 of them\n",
    "\n",
    "not_least_common[:10]"
   ]
  },
  {
   "cell_type": "code",
   "execution_count": 25,
   "metadata": {},
   "outputs": [],
   "source": [
    "# a variant of the preprocess_sentence to work on tokens only\n",
    "\n",
    "def preprocess_tokens(tokens):\n",
    "    return remove_stopword_tokens(remove_punctuation_in_tokens(get_cleaned_tokens(tokens)))"
   ]
  },
  {
   "cell_type": "code",
   "execution_count": 26,
   "metadata": {},
   "outputs": [
    {
     "name": "stderr",
     "output_type": "stream",
     "text": "[nltk_data] Downloading package stopwords to\n[nltk_data]     C:\\Users\\maxen\\AppData\\Roaming\\nltk_data...\n[nltk_data]   Package stopwords is already up-to-date!\n"
    },
    {
     "data": {
      "text/plain": "True"
     },
     "execution_count": 26,
     "metadata": {},
     "output_type": "execute_result"
    }
   ],
   "source": [
    "# now let's load stopword components\n",
    "\n",
    "nltk.download('stopwords')"
   ]
  },
  {
   "cell_type": "code",
   "execution_count": 27,
   "metadata": {},
   "outputs": [],
   "source": [
    "# now let's process all the tokens we got before\n",
    "\n",
    "wotw_preprocessed = preprocess_tokens(all_tokens)"
   ]
  },
  {
   "cell_type": "code",
   "execution_count": 28,
   "metadata": {},
   "outputs": [
    {
     "data": {
      "text/plain": "29662"
     },
     "execution_count": 28,
     "metadata": {},
     "output_type": "execute_result"
    }
   ],
   "source": [
    "len(wotw_preprocessed)"
   ]
  },
  {
   "cell_type": "code",
   "execution_count": 29,
   "metadata": {},
   "outputs": [
    {
     "data": {
      "text/plain": "69105"
     },
     "execution_count": 29,
     "metadata": {},
     "output_type": "execute_result"
    }
   ],
   "source": [
    "# note we really remove quite a few tokens just with stopwords\n",
    "\n",
    "len(all_tokens)"
   ]
  },
  {
   "cell_type": "code",
   "execution_count": 30,
   "metadata": {},
   "outputs": [
    {
     "data": {
      "text/plain": "FreqDist({'one': 197, 'upon': 171, 'said': 166, 'martians': 165, 'people': 158, 'came': 150, 'saw': 131, 'towards': 129, 'man': 125, 'time': 121, ...})"
     },
     "execution_count": 30,
     "metadata": {},
     "output_type": "execute_result"
    }
   ],
   "source": [
    "# now let's look at the frequency distribution of this new set\n",
    "\n",
    "fdist2 = FreqDist(wotw_preprocessed)\n",
    "fdist2"
   ]
  },
  {
   "cell_type": "code",
   "execution_count": 31,
   "metadata": {},
   "outputs": [
    {
     "data": {
      "text/plain": "(29662, 6953)"
     },
     "execution_count": 31,
     "metadata": {},
     "output_type": "execute_result"
    }
   ],
   "source": [
    "# and check the count and number of bins\n",
    "\n",
    "fdist2.N(), fdist2.B()"
   ]
  },
  {
   "cell_type": "code",
   "execution_count": 32,
   "metadata": {},
   "outputs": [
    {
     "data": {
      "text/plain": "[('one', 197),\n ('upon', 171),\n ('said', 166),\n ('martians', 165),\n ('people', 158),\n ('came', 150),\n ('saw', 131),\n ('towards', 129),\n ('man', 125),\n ('time', 121)]"
     },
     "execution_count": 32,
     "metadata": {},
     "output_type": "execute_result"
    }
   ],
   "source": [
    "# check the top 10\n",
    "\n",
    "fdist2.most_common(10)"
   ]
  },
  {
   "cell_type": "code",
   "execution_count": 33,
   "metadata": {},
   "outputs": [
    {
     "data": {
      "image/png": "[encoded data removed]",
      "text/plain": "<Figure size 864x576 with 1 Axes>"
     },
     "metadata": {
      "needs_background": "light"
     },
     "output_type": "display_data"
    }
   ],
   "source": [
    "# and visualize it\n",
    "\n",
    "fig, ax = plt.subplots(figsize=(12, 8))\n",
    "fdist2.plot(50, cumulative=False)\n",
    "plt.show()"
   ]
  },
  {
   "cell_type": "code",
   "execution_count": 34,
   "metadata": {},
   "outputs": [
    {
     "data": {
      "text/plain": "[('gibber', 1),\n ('fiercer', 1),\n ('paler', 1),\n ('uglier', 1),\n ('distortions', 1),\n ('haunting', 1),\n ('mockery', 1),\n ('beds', 1),\n ('sightseers', 1),\n ('clearcut', 1)]"
     },
     "execution_count": 34,
     "metadata": {},
     "output_type": "execute_result"
    }
   ],
   "source": [
    "# ten least common\n",
    "\n",
    "fdist2.most_common()[-10:]"
   ]
  },
  {
   "cell_type": "code",
   "execution_count": 35,
   "metadata": {},
   "outputs": [
    {
     "data": {
      "text/plain": "5288"
     },
     "execution_count": 35,
     "metadata": {},
     "output_type": "execute_result"
    }
   ],
   "source": [
    "# How many are used < 4 times?\n",
    "\n",
    "least_common = [item[0] for item in fdist2.items() if item[1]<4]\n",
    "len(least_common)"
   ]
  },
  {
   "cell_type": "code",
   "execution_count": 36,
   "metadata": {},
   "outputs": [
    {
     "data": {
      "text/plain": "1665"
     },
     "execution_count": 36,
     "metadata": {},
     "output_type": "execute_result"
    }
   ],
   "source": [
    "# all used 4 or more times, and check the cournt\n",
    "\n",
    "most_common = [item[0] for item in fdist2.items() if item[1]>=4]\n",
    "len(most_common)"
   ]
  },
  {
   "cell_type": "code",
   "execution_count": 37,
   "metadata": {},
   "outputs": [
    {
     "data": {
      "text/plain": "['war',\n 'shall',\n 'world',\n 'things',\n 'made',\n 'man',\n 'book',\n 'coming',\n 'martians',\n 'ii']"
     },
     "execution_count": 37,
     "metadata": {},
     "output_type": "execute_result"
    }
   ],
   "source": [
    "most_common[:10]"
   ]
  },
  {
   "cell_type": "code",
   "execution_count": null,
   "metadata": {},
   "outputs": [],
   "source": []
  }
 ],
 "metadata": {
  "kernelspec": {
   "display_name": "Python 3.7.3 64-bit",
   "language": "python",
   "name": "python37364bit83df7d3367a7425a9ba49d2b80848501"
  },
  "language_info": {
   "codemirror_mode": {
    "name": "ipython",
    "version": 3
   },
   "file_extension": ".py",
   "mimetype": "text/x-python",
   "name": "python",
   "nbconvert_exporter": "python",
   "pygments_lexer": "ipython3",
   "version": "3.7.3-final"
  }
 },
 "nbformat": 4,
 "nbformat_minor": 2
}