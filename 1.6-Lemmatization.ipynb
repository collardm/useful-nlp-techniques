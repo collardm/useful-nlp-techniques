{
 "cells": [
  {
   "cell_type": "code",
   "execution_count": 1,
   "metadata": {},
   "outputs": [],
   "source": [
    "import nltk\n",
    "import pandas as pd"
   ]
  },
  {
   "cell_type": "code",
   "execution_count": 2,
   "metadata": {},
   "outputs": [],
   "source": [
    "# revisit the Porter stemmer\n",
    "\n",
    "ps = nltk.stem.PorterStemmer()"
   ]
  },
  {
   "cell_type": "code",
   "execution_count": 3,
   "metadata": {},
   "outputs": [
    {
     "data": {
      "text/plain": "'friendli'"
     },
     "execution_count": 3,
     "metadata": {},
     "output_type": "execute_result"
    }
   ],
   "source": [
    "# this does not return a real word \n",
    "\n",
    "ps.stem('friendly')"
   ]
  },
  {
   "cell_type": "code",
   "execution_count": 4,
   "metadata": {},
   "outputs": [
    {
     "name": "stderr",
     "output_type": "stream",
     "text": "[nltk_data] Downloading package wordnet to\n[nltk_data]     C:\\Users\\maxen\\AppData\\Roaming\\nltk_data...\n[nltk_data]   Package wordnet is already up-to-date!\n"
    },
    {
     "data": {
      "text/plain": "True"
     },
     "execution_count": 4,
     "metadata": {},
     "output_type": "execute_result"
    }
   ],
   "source": [
    "# so let's download the lemmatization / wordnet components\n",
    "nltk.download('wordnet')"
   ]
  },
  {
   "cell_type": "code",
   "execution_count": 5,
   "metadata": {},
   "outputs": [],
   "source": [
    "# create a WordNet lemmatizer\n",
    "\n",
    "wnl = nltk.stem.WordNetLemmatizer()"
   ]
  },
  {
   "cell_type": "code",
   "execution_count": 6,
   "metadata": {},
   "outputs": [
    {
     "data": {
      "text/plain": "'friendly'"
     },
     "execution_count": 6,
     "metadata": {},
     "output_type": "execute_result"
    }
   ],
   "source": [
    "# lemma for friendly is correct compared to Porter\n",
    "\n",
    "wnl.lemmatize('friendly')"
   ]
  },
  {
   "cell_type": "code",
   "execution_count": 7,
   "metadata": {},
   "outputs": [
    {
     "data": {
      "text/plain": "'walking'"
     },
     "execution_count": 7,
     "metadata": {},
     "output_type": "execute_result"
    }
   ],
   "source": [
    "# adjective\n",
    "\n",
    "wnl.lemmatize('walking', pos='a')"
   ]
  },
  {
   "cell_type": "code",
   "execution_count": 8,
   "metadata": {},
   "outputs": [
    {
     "data": {
      "text/plain": "'walking'"
     },
     "execution_count": 8,
     "metadata": {},
     "output_type": "execute_result"
    }
   ],
   "source": [
    "# Adverb\n",
    "\n",
    "wnl.lemmatize('walking', pos='r')"
   ]
  },
  {
   "cell_type": "code",
   "execution_count": 9,
   "metadata": {},
   "outputs": [
    {
     "data": {
      "text/plain": "'walking'"
     },
     "execution_count": 9,
     "metadata": {},
     "output_type": "execute_result"
    }
   ],
   "source": [
    "# noun\n",
    "\n",
    "wnl.lemmatize('walking', pos='n')"
   ]
  },
  {
   "cell_type": "code",
   "execution_count": 10,
   "metadata": {},
   "outputs": [
    {
     "data": {
      "text/plain": "'walk'"
     },
     "execution_count": 10,
     "metadata": {},
     "output_type": "execute_result"
    }
   ],
   "source": [
    "# verb\n",
    "\n",
    "wnl.lemmatize('walking', pos='v')"
   ]
  },
  {
   "cell_type": "code",
   "execution_count": 11,
   "metadata": {},
   "outputs": [],
   "source": [
    "# word list to use to comapre stemming and lemmatization\n",
    "\n",
    "words = [\"friend\", \"friendly\", \"friendship\", \"friends\", \"friendships\", \\\n",
    "         \"stabile\", \"destabilize\", \"destabile\", \\\n",
    "         \"misunderstanding\", \"misunderstand\", \\\n",
    "         \"lying\", \"lie\", \"lied\", \\\n",
    "         \"motivated\", \"motivate\", \"motivational\", \"motivating\"]"
   ]
  },
  {
   "cell_type": "code",
   "execution_count": 12,
   "metadata": {},
   "outputs": [],
   "source": [
    "# will use a snowball stemmer / english\n",
    "\n",
    "ss = nltk.stem.SnowballStemmer(\"english\")"
   ]
  },
  {
   "cell_type": "code",
   "execution_count": 13,
   "metadata": {},
   "outputs": [
    {
     "data": {
      "text/html": "<div>\n<style scoped>\n    .dataframe tbody tr th:only-of-type {\n        vertical-align: middle;\n    }\n\n    .dataframe tbody tr th {\n        vertical-align: top;\n    }\n\n    .dataframe thead th {\n        text-align: right;\n    }\n</style>\n<table border=\"1\" class=\"dataframe\">\n  <thead>\n    <tr style=\"text-align: right;\">\n      <th></th>\n      <th>Words</th>\n      <th>Snowball</th>\n      <th>WordNet</th>\n    </tr>\n  </thead>\n  <tbody>\n    <tr>\n      <th>0</th>\n      <td>friend</td>\n      <td>friend</td>\n      <td>friend</td>\n    </tr>\n    <tr>\n      <th>1</th>\n      <td>friendly</td>\n      <td>friend</td>\n      <td>friendly</td>\n    </tr>\n    <tr>\n      <th>2</th>\n      <td>friendship</td>\n      <td>friendship</td>\n      <td>friendship</td>\n    </tr>\n    <tr>\n      <th>3</th>\n      <td>friends</td>\n      <td>friend</td>\n      <td>friends</td>\n    </tr>\n    <tr>\n      <th>4</th>\n      <td>friendships</td>\n      <td>friendship</td>\n      <td>friendships</td>\n    </tr>\n    <tr>\n      <th>5</th>\n      <td>stabile</td>\n      <td>stabil</td>\n      <td>stabile</td>\n    </tr>\n    <tr>\n      <th>6</th>\n      <td>destabilize</td>\n      <td>destabil</td>\n      <td>destabilize</td>\n    </tr>\n    <tr>\n      <th>7</th>\n      <td>destabile</td>\n      <td>destabil</td>\n      <td>destabile</td>\n    </tr>\n    <tr>\n      <th>8</th>\n      <td>misunderstanding</td>\n      <td>misunderstand</td>\n      <td>misunderstand</td>\n    </tr>\n    <tr>\n      <th>9</th>\n      <td>misunderstand</td>\n      <td>misunderstand</td>\n      <td>misunderstand</td>\n    </tr>\n    <tr>\n      <th>10</th>\n      <td>lying</td>\n      <td>lie</td>\n      <td>lie</td>\n    </tr>\n    <tr>\n      <th>11</th>\n      <td>lie</td>\n      <td>lie</td>\n      <td>lie</td>\n    </tr>\n    <tr>\n      <th>12</th>\n      <td>lied</td>\n      <td>lie</td>\n      <td>lie</td>\n    </tr>\n    <tr>\n      <th>13</th>\n      <td>motivated</td>\n      <td>motiv</td>\n      <td>motivate</td>\n    </tr>\n    <tr>\n      <th>14</th>\n      <td>motivate</td>\n      <td>motiv</td>\n      <td>motivate</td>\n    </tr>\n    <tr>\n      <th>15</th>\n      <td>motivational</td>\n      <td>motiv</td>\n      <td>motivational</td>\n    </tr>\n    <tr>\n      <th>16</th>\n      <td>motivating</td>\n      <td>motiv</td>\n      <td>motivate</td>\n    </tr>\n  </tbody>\n</table>\n</div>",
      "text/plain": "               Words       Snowball        WordNet\n0             friend         friend         friend\n1           friendly         friend       friendly\n2         friendship     friendship     friendship\n3            friends         friend        friends\n4        friendships     friendship    friendships\n5            stabile         stabil        stabile\n6        destabilize       destabil    destabilize\n7          destabile       destabil      destabile\n8   misunderstanding  misunderstand  misunderstand\n9      misunderstand  misunderstand  misunderstand\n10             lying            lie            lie\n11               lie            lie            lie\n12              lied            lie            lie\n13         motivated          motiv       motivate\n14          motivate          motiv       motivate\n15      motivational          motiv   motivational\n16        motivating          motiv       motivate"
     },
     "execution_count": 13,
     "metadata": {},
     "output_type": "execute_result"
    }
   ],
   "source": [
    "df = pd.DataFrame({\n",
    "    \"Words\": words,\n",
    "    \"Snowball\": [ss.stem(word) for word in words],\n",
    "    \"WordNet\": [wnl.lemmatize(word, pos='v') for word in words]\n",
    "})\n",
    "df"
   ]
  },
  {
   "cell_type": "code",
   "execution_count": null,
   "metadata": {},
   "outputs": [],
   "source": []
  }
 ],
 "metadata": {
  "kernelspec": {
   "display_name": "Python 3",
   "language": "python",
   "name": "python3"
  },
  "language_info": {
   "codemirror_mode": {
    "name": "ipython",
    "version": 3
   },
   "file_extension": ".py",
   "mimetype": "text/x-python",
   "name": "python",
   "nbconvert_exporter": "python",
   "pygments_lexer": "ipython3",
   "version": "3.7.3-final"
  }
 },
 "nbformat": 4,
 "nbformat_minor": 2
}