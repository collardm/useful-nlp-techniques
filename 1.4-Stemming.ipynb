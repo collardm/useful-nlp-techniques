{
 "cells": [
  {
   "cell_type": "code",
   "execution_count": 1,
   "metadata": {},
   "outputs": [],
   "source": [
    "# import the necessary packages\n",
    "\n",
    "import nltk\n",
    "from nltk.stem import *\n",
    "import pandas as pd"
   ]
  },
  {
   "cell_type": "code",
   "execution_count": 2,
   "metadata": {},
   "outputs": [],
   "source": [
    "# build a list of words to test stemming\n",
    "\n",
    "words = [\"friend\", \"friendly\", \"friendship\", \"friends\", \"friendships\", \\\n",
    "         \"stabile\", \"destabilize\", \"destabile\", \\\n",
    "         \"misunderstanding\", \"misunderstand\", \\\n",
    "         \"lying\", \"lie\", \"lied\", \\\n",
    "         \"motivated\", \"motivate\", \"motivational\", \"motivating\"]"
   ]
  },
  {
   "cell_type": "code",
   "execution_count": 3,
   "metadata": {},
   "outputs": [],
   "source": [
    "# create a Porter stemmer\n",
    "\n",
    "ps = PorterStemmer()"
   ]
  },
  {
   "cell_type": "code",
   "execution_count": 4,
   "metadata": {},
   "outputs": [
    {
     "data": {
      "text/plain": "[('friend', 'friend'),\n ('friendly', 'friendli'),\n ('friendship', 'friendship'),\n ('friends', 'friend'),\n ('friendships', 'friendship'),\n ('stabile', 'stabil'),\n ('destabilize', 'destabil'),\n ('destabile', 'destabil'),\n ('misunderstanding', 'misunderstand'),\n ('misunderstand', 'misunderstand'),\n ('lying', 'lie'),\n ('lie', 'lie'),\n ('lied', 'lie'),\n ('motivated', 'motiv'),\n ('motivate', 'motiv'),\n ('motivational', 'motiv'),\n ('motivating', 'motiv')]"
     },
     "execution_count": 4,
     "metadata": {},
     "output_type": "execute_result"
    }
   ],
   "source": [
    "# and stem all the words\n",
    "\n",
    "[(word, ps.stem(word)) for word in words]"
   ]
  },
  {
   "cell_type": "code",
   "execution_count": 5,
   "metadata": {},
   "outputs": [],
   "source": [
    "# and a Lancaster stemmer\n",
    "\n",
    "ls = LancasterStemmer()"
   ]
  },
  {
   "cell_type": "code",
   "execution_count": 6,
   "metadata": {},
   "outputs": [
    {
     "data": {
      "text/plain": "[('friend', 'friend'),\n ('friendly', 'friend'),\n ('friendship', 'friend'),\n ('friends', 'friend'),\n ('friendships', 'friend'),\n ('stabile', 'stabl'),\n ('destabilize', 'dest'),\n ('destabile', 'dest'),\n ('misunderstanding', 'misunderstand'),\n ('misunderstand', 'misunderstand'),\n ('lying', 'lying'),\n ('lie', 'lie'),\n ('lied', 'lied'),\n ('motivated', 'mot'),\n ('motivate', 'mot'),\n ('motivational', 'mot'),\n ('motivating', 'mot')]"
     },
     "execution_count": 6,
     "metadata": {},
     "output_type": "execute_result"
    }
   ],
   "source": [
    "# and check out how that handles the words\n",
    "\n",
    "[(word, ls.stem(word)) for word in words]"
   ]
  },
  {
   "cell_type": "code",
   "execution_count": 7,
   "metadata": {},
   "outputs": [
    {
     "data": {
      "text/plain": "('arabic',\n 'danish',\n 'dutch',\n 'english',\n 'finnish',\n 'french',\n 'german',\n 'hungarian',\n 'italian',\n 'norwegian',\n 'porter',\n 'portuguese',\n 'romanian',\n 'russian',\n 'spanish',\n 'swedish')"
     },
     "execution_count": 7,
     "metadata": {},
     "output_type": "execute_result"
    }
   ],
   "source": [
    "# snowball stemmer can do languages other than English\n",
    "\n",
    "SnowballStemmer.languages"
   ]
  },
  {
   "cell_type": "code",
   "execution_count": 8,
   "metadata": {},
   "outputs": [
    {
     "data": {
      "text/plain": "[('friend', 'friend'),\n ('friendly', 'friend'),\n ('friendship', 'friendship'),\n ('friends', 'friend'),\n ('friendships', 'friendship'),\n ('stabile', 'stabil'),\n ('destabilize', 'destabil'),\n ('destabile', 'destabil'),\n ('misunderstanding', 'misunderstand'),\n ('misunderstand', 'misunderstand'),\n ('lying', 'lie'),\n ('lie', 'lie'),\n ('lied', 'lie'),\n ('motivated', 'motiv'),\n ('motivate', 'motiv'),\n ('motivational', 'motiv'),\n ('motivating', 'motiv')]"
     },
     "execution_count": 8,
     "metadata": {},
     "output_type": "execute_result"
    }
   ],
   "source": [
    "# but lt's try english and see how it compares\n",
    "ss = SnowballStemmer(\"english\")\n",
    "[(word, ss.stem(word)) for word in words]"
   ]
  },
  {
   "cell_type": "code",
   "execution_count": 9,
   "metadata": {},
   "outputs": [
    {
     "data": {
      "text/html": "<div>\n<style scoped>\n    .dataframe tbody tr th:only-of-type {\n        vertical-align: middle;\n    }\n\n    .dataframe tbody tr th {\n        vertical-align: top;\n    }\n\n    .dataframe thead th {\n        text-align: right;\n    }\n</style>\n<table border=\"1\" class=\"dataframe\">\n  <thead>\n    <tr style=\"text-align: right;\">\n      <th></th>\n      <th>Words</th>\n      <th>Porter</th>\n      <th>Lancaster</th>\n      <th>Snowball</th>\n    </tr>\n  </thead>\n  <tbody>\n    <tr>\n      <th>0</th>\n      <td>friend</td>\n      <td>friend</td>\n      <td>friend</td>\n      <td>friend</td>\n    </tr>\n    <tr>\n      <th>1</th>\n      <td>friendly</td>\n      <td>friendli</td>\n      <td>friend</td>\n      <td>friend</td>\n    </tr>\n    <tr>\n      <th>2</th>\n      <td>friendship</td>\n      <td>friendship</td>\n      <td>friend</td>\n      <td>friendship</td>\n    </tr>\n    <tr>\n      <th>3</th>\n      <td>friends</td>\n      <td>friend</td>\n      <td>friend</td>\n      <td>friend</td>\n    </tr>\n    <tr>\n      <th>4</th>\n      <td>friendships</td>\n      <td>friendship</td>\n      <td>friend</td>\n      <td>friendship</td>\n    </tr>\n    <tr>\n      <th>5</th>\n      <td>stabile</td>\n      <td>stabil</td>\n      <td>stabl</td>\n      <td>stabil</td>\n    </tr>\n    <tr>\n      <th>6</th>\n      <td>destabilize</td>\n      <td>destabil</td>\n      <td>dest</td>\n      <td>destabil</td>\n    </tr>\n    <tr>\n      <th>7</th>\n      <td>destabile</td>\n      <td>destabil</td>\n      <td>dest</td>\n      <td>destabil</td>\n    </tr>\n    <tr>\n      <th>8</th>\n      <td>misunderstanding</td>\n      <td>misunderstand</td>\n      <td>misunderstand</td>\n      <td>misunderstand</td>\n    </tr>\n    <tr>\n      <th>9</th>\n      <td>misunderstand</td>\n      <td>misunderstand</td>\n      <td>misunderstand</td>\n      <td>misunderstand</td>\n    </tr>\n    <tr>\n      <th>10</th>\n      <td>lying</td>\n      <td>lie</td>\n      <td>lying</td>\n      <td>lie</td>\n    </tr>\n    <tr>\n      <th>11</th>\n      <td>lie</td>\n      <td>lie</td>\n      <td>lie</td>\n      <td>lie</td>\n    </tr>\n    <tr>\n      <th>12</th>\n      <td>lied</td>\n      <td>lie</td>\n      <td>lied</td>\n      <td>lie</td>\n    </tr>\n    <tr>\n      <th>13</th>\n      <td>motivated</td>\n      <td>motiv</td>\n      <td>mot</td>\n      <td>motiv</td>\n    </tr>\n    <tr>\n      <th>14</th>\n      <td>motivate</td>\n      <td>motiv</td>\n      <td>mot</td>\n      <td>motiv</td>\n    </tr>\n    <tr>\n      <th>15</th>\n      <td>motivational</td>\n      <td>motiv</td>\n      <td>mot</td>\n      <td>motiv</td>\n    </tr>\n    <tr>\n      <th>16</th>\n      <td>motivating</td>\n      <td>motiv</td>\n      <td>mot</td>\n      <td>motiv</td>\n    </tr>\n  </tbody>\n</table>\n</div>",
      "text/plain": "               Words         Porter      Lancaster       Snowball\n0             friend         friend         friend         friend\n1           friendly       friendli         friend         friend\n2         friendship     friendship         friend     friendship\n3            friends         friend         friend         friend\n4        friendships     friendship         friend     friendship\n5            stabile         stabil          stabl         stabil\n6        destabilize       destabil           dest       destabil\n7          destabile       destabil           dest       destabil\n8   misunderstanding  misunderstand  misunderstand  misunderstand\n9      misunderstand  misunderstand  misunderstand  misunderstand\n10             lying            lie          lying            lie\n11               lie            lie            lie            lie\n12              lied            lie           lied            lie\n13         motivated          motiv            mot          motiv\n14          motivate          motiv            mot          motiv\n15      motivational          motiv            mot          motiv\n16        motivating          motiv            mot          motiv"
     },
     "execution_count": 9,
     "metadata": {},
     "output_type": "execute_result"
    }
   ],
   "source": [
    "# and check out how they all look side to side\n",
    "df = pd.DataFrame(\n",
    "    {\n",
    "        \"Words\": words, \n",
    "        \"Porter\": [ps.stem(word) for word in words],\n",
    "        \"Lancaster\": [ls.stem(word) for word in words],\n",
    "        \"Snowball\": [ss.stem(word) for word in words]\n",
    "    })\n",
    "df"
   ]
  },
  {
   "cell_type": "code",
   "execution_count": null,
   "metadata": {},
   "outputs": [],
   "source": []
  }
 ],
 "metadata": {
  "kernelspec": {
   "display_name": "Python 3.7.3 64-bit",
   "language": "python",
   "name": "python37364bit83df7d3367a7425a9ba49d2b80848501"
  },
  "language_info": {
   "codemirror_mode": {
    "name": "ipython",
    "version": 3
   },
   "file_extension": ".py",
   "mimetype": "text/x-python",
   "name": "python",
   "nbconvert_exporter": "python",
   "pygments_lexer": "ipython3",
   "version": "3.7.3-final"
  }
 },
 "nbformat": 4,
 "nbformat_minor": 2
}